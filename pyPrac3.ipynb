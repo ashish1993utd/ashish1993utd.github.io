{
 "cells": [
  {
   "cell_type": "markdown",
   "metadata": {},
   "source": [
    "### Practice"
   ]
  },
  {
   "cell_type": "code",
   "execution_count": 539,
   "metadata": {},
   "outputs": [],
   "source": [
    "begin_word = \"same\",\n",
    "end_word = \"cost\",\n",
    "word_list = [\"same\",\"came\",\"case\",\"cast\",\"lost\",\"last\",\"cost\"]"
   ]
  },
  {
   "cell_type": "code",
   "execution_count": 547,
   "metadata": {},
   "outputs": [
    {
     "data": {
      "text/plain": [
       "False"
      ]
     },
     "execution_count": 547,
     "metadata": {},
     "output_type": "execute_result"
    }
   ],
   "source": [
    "string = 'carra'\n",
    "def perm_palindrome(string):\n",
    "    string = string.lower().replace(' ','')\n",
    "    \n",
    "    n = len(string)\n",
    "    mid = idx = n//2 \n",
    "    \n",
    "    if n%2==0:\n",
    "        idx = mid-1\n",
    "    \n",
    "    for i, j in zip(range(0,mid), range(n-1, idx, -1)):\n",
    "            if string[i]!=string[j]:\n",
    "                return False\n",
    "            \n",
    "    return True\n",
    "perm_palindrome(string)"
   ]
  },
  {
   "cell_type": "code",
   "execution_count": 548,
   "metadata": {},
   "outputs": [],
   "source": [
    "coordinates = [(0, 1), (1, 3), (2, 2), (3, 4), (4, 6), (5, 5), (6, 7), (7, 9), (8, 8), (9, 10), \n",
    "               (10, 12), (11, 11), (12, 13), (13, 15), (14, 14), (15, 16), (16, 18), (17, 17), (18, 19)]"
   ]
  },
  {
   "cell_type": "code",
   "execution_count": null,
   "metadata": {},
   "outputs": [],
   "source": [
    "y = mx + c"
   ]
  },
  {
   "cell_type": "code",
   "execution_count": null,
   "metadata": {},
   "outputs": [],
   "source": [
    "def init_betas(coordinates):\n",
    "    betas = len(coordinates[0])-1\n",
    "    beta = []\n",
    "    intercept = np.random.random()\n",
    "    for i in betas:\n",
    "        init_beta.append(np.random.random())\n",
    "    return intercept, beta\n",
    "\n",
    "\n",
    "def prediction(coordinates):\n",
    "    intercept, beta = init_betas(coordinates)\n",
    "    total_feat = len(coordinates[0])-1\n",
    "    records = len(coordinates)\n",
    "    \n",
    "    d_error = 0\n",
    "    \n",
    "    for tup in coordinates:\n",
    "        pred = intercept\n",
    "        for i in range(0, total_feat):\n",
    "            pred += beta[i]*tup[i]\n",
    "        \n",
    "        d_error += 2*(tup[total_feat]-pred)/n\n",
    "    return d_error\n",
    "\n",
    "def update_betas(old_betas, error):\n",
    "    old_betas\n",
    "            \n",
    "def gradient_descent(coordinates):\n",
    "    "
   ]
  },
  {
   "cell_type": "code",
   "execution_count": null,
   "metadata": {},
   "outputs": [],
   "source": []
  },
  {
   "cell_type": "code",
   "execution_count": null,
   "metadata": {},
   "outputs": [],
   "source": []
  },
  {
   "cell_type": "code",
   "execution_count": null,
   "metadata": {},
   "outputs": [],
   "source": []
  },
  {
   "cell_type": "code",
   "execution_count": 526,
   "metadata": {},
   "outputs": [],
   "source": [
    "friends_added = [\n",
    "    {'user_ids': [1, 2], 'created_at': '2020-01-01'},\n",
    "    {'user_ids': [3, 2], 'created_at': '2020-01-02'},\n",
    "    {'user_ids': [2, 1], 'created_at': '2020-02-02'},\n",
    "    {'user_ids': [4, 1], 'created_at': '2020-02-02'}]\n",
    "\n",
    "friends_removed = [\n",
    "    {'user_ids': [2, 1], 'created_at': '2020-01-03'},\n",
    "    {'user_ids': [2, 3], 'created_at': '2020-01-05'},\n",
    "    {'user_ids': [1, 2], 'created_at': '2020-02-05'}]"
   ]
  },
  {
   "cell_type": "code",
   "execution_count": 529,
   "metadata": {},
   "outputs": [
    {
     "data": {
      "text/plain": [
       "[{'user_ids': [1, 2], 'start_date': '2020-01-01', 'end_date': '2020-01-03'},\n",
       " {'user_ids': [2, 3], 'start_date': '2020-01-02', 'end_date': '2020-01-05'},\n",
       " {'user_ids': [1, 2], 'start_date': '2020-02-02', 'end_date': '2020-02-05'}]"
      ]
     },
     "execution_count": 529,
     "metadata": {},
     "output_type": "execute_result"
    }
   ],
   "source": [
    "friendship_timeline(friends_added, friends_removed)"
   ]
  },
  {
   "cell_type": "code",
   "execution_count": 528,
   "metadata": {},
   "outputs": [],
   "source": [
    "def get_userid(list_users):\n",
    "    friend_1 = list_users[0]\n",
    "    friend_2 = list_users[1]\n",
    "    if friend_1 > friend_2:\n",
    "        list_users[0], list_users[1] = list_users[1], list_users[0]\n",
    "    return list_users\n",
    "\n",
    "def friendship_timeline(friends_added, friends_removed):\n",
    "    seen_idx = []\n",
    "    friendships = []\n",
    "    for created_idx in range(len(friends_added)):\n",
    "        \n",
    "        user_id = get_userid(friends_added[created_idx]['user_ids']) \n",
    "        date_friends = friends_added[created_idx]['created_at']\n",
    "        \n",
    "        for removed_idx in range(len(friends_removed)):\n",
    "            if removed_idx not in seen_idx:\n",
    "                id_removed = get_userid(friends_removed[removed_idx]['user_ids'])\n",
    "                date_removed = friends_removed[removed_idx]['created_at']\n",
    "                \n",
    "                if  id_removed == user_id and date_friends <= date_removed:\n",
    "                    dict_ = {}\n",
    "                    dict_['user_ids'] = user_id\n",
    "                    dict_['start_date'] = date_friends\n",
    "                    dict_['end_date'] = date_removed\n",
    "                    friendships.append(dict_)\n",
    "                    seen_idx.append(removed_idx)\n",
    "                    break\n",
    "    return friendships\n",
    "                    "
   ]
  },
  {
   "cell_type": "markdown",
   "metadata": {},
   "source": [
    "### 31\n",
    "Longest Common Subsequence <br>"
   ]
  },
  {
   "cell_type": "code",
   "execution_count": 35,
   "metadata": {},
   "outputs": [
    {
     "data": {
      "text/plain": [
       "(4, 'abcf')"
      ]
     },
     "execution_count": 35,
     "metadata": {},
     "output_type": "execute_result"
    }
   ],
   "source": [
    "def longestCommonSubSeq(seq1, seq2):\n",
    "    n = len(seq1)\n",
    "    m = len(seq2)\n",
    "    ## Creating a matrix with rows = len(seq2)+1 and columns=len(seq1)+1\n",
    "    #### First row and column all values = 0\n",
    "    K = [[(0 if i==0 else j) for j in range(0,n+1)] for i in range(0,m+1)]\n",
    "    \n",
    "    ## Go over the elements and start filling the matrix\n",
    "    for i in range(0,m):\n",
    "        for j in range(0,n):\n",
    "            if seq2[i]==seq1[j]:\n",
    "                K[i+1][j+1] = K[i][j]+1 \n",
    "            else:\n",
    "                K[i+1][j+1] = max(K[i+1][j], K[i][j+1])\n",
    "    \n",
    "    ## length of the sequence\n",
    "    lenLongSeq = K[m][n]\n",
    "    \n",
    "    ## Finding the sequence\n",
    "    i = m  # num rows\n",
    "    j = n # num columns\n",
    "\n",
    "    longSeq = ''\n",
    "    currentChar = K[i][j]\n",
    "\n",
    "    while j>0 and i>0:\n",
    "        if currentChar == max(K[i][j-1],K[i-1][j]):\n",
    "            if currentChar == K[i][j-1]:\n",
    "                currentChar = K[i][j-1]\n",
    "                j-=1\n",
    "            else:\n",
    "                currentChar = K[i-1][j] \n",
    "                i-=1\n",
    "        else:\n",
    "            currentChar = K[i-1][j-1]\n",
    "            longSeq = seq1[j-1]+longSeq\n",
    "            i-=1\n",
    "            j-=1\n",
    "   \n",
    "    return lenLongSeq, longSeq\n",
    "\n",
    "sequence1 = 'abcdaf'\n",
    "sequence2 = 'acbcf'\n",
    "longestCommonSubSeq(sequence1, sequence2)"
   ]
  },
  {
   "cell_type": "markdown",
   "metadata": {},
   "source": [
    "### 32\n",
    "Longest increasing Subsequence <br>\n",
    "[10, 22, 9, 33, 21, 50, 41, 60, 80] <br>\n",
    "The longest increasing subsequence (LIS) is [10, 22, 33, 50, 60, 80]."
   ]
  },
  {
   "cell_type": "code",
   "execution_count": 32,
   "metadata": {},
   "outputs": [
    {
     "data": {
      "text/plain": [
       "([10, 22, 33, 50, 60, 80], 6)"
      ]
     },
     "execution_count": 32,
     "metadata": {},
     "output_type": "execute_result"
    }
   ],
   "source": [
    "## Using DP\n",
    "\n",
    "## Logic\n",
    "##  Create an array-lis with the length of sequence\n",
    "# Lis stores the length of longest common sub-sequence ending at the index of given item in the array\n",
    "\n",
    "def longestIncSub(seq):\n",
    "    if seq:\n",
    "        n = len(seq)\n",
    "        arr = [1]*n\n",
    "\n",
    "        ## Fill the array with the length of longest increasing sequence at each step\n",
    "        i = 1\n",
    "        while i<n:\n",
    "            j = 0\n",
    "            while j<i:\n",
    "                if seq[i]>seq[j]:\n",
    "                    arr[i] = max(arr[j]+1, arr[i])\n",
    "                j+=1\n",
    "            i+=1\n",
    "\n",
    "        ## length of longest increasing sequence\n",
    "        max_count = 0\n",
    "        for i in arr:\n",
    "            if i>max_count:\n",
    "                max_count=i\n",
    "        \n",
    "        ## longest increasing sequence\n",
    "        lis = []\n",
    "        i = 1\n",
    "        while i<=max_count:\n",
    "            lis.append(seq[arr.index(i)])\n",
    "            i+=1\n",
    "        \n",
    "        return lis, max_count\n",
    "    return 'invalid input'\n",
    "\n",
    "sequence = [10, 22, 9, 33, 21, 50, 11, 60, 80]\n",
    "longestIncSub(sequence)"
   ]
  },
  {
   "cell_type": "code",
   "execution_count": 33,
   "metadata": {},
   "outputs": [
    {
     "data": {
      "text/plain": [
       "([90, 33, 50, 60, 80], 5)"
      ]
     },
     "execution_count": 33,
     "metadata": {},
     "output_type": "execute_result"
    }
   ],
   "source": [
    "seq1 = [90, 22, 9, 33, 21, 50, 41, 60, 80]\n",
    "longestIncSub(seq1)"
   ]
  },
  {
   "cell_type": "markdown",
   "metadata": {},
   "source": [
    "### 33\n",
    "KnapSack (0/1)<br>\n",
    "\n",
    "- val = [60, 100, 120] \n",
    "- wt = [10, 20, 30] \n",
    "- W = 50"
   ]
  },
  {
   "cell_type": "code",
   "execution_count": 481,
   "metadata": {},
   "outputs": [
    {
     "data": {
      "text/plain": [
       "(9,\n",
       " [(4, 5), (3, 4)],\n",
       " [[0, 1, 1, 1, 1, 1, 1, 1],\n",
       "  [0, 1, 1, 4, 5, 5, 5, 5],\n",
       "  [0, 1, 1, 4, 5, 6, 6, 9],\n",
       "  [0, 1, 1, 4, 5, 7, 8, 9]])"
      ]
     },
     "execution_count": 481,
     "metadata": {},
     "output_type": "execute_result"
    }
   ],
   "source": [
    "max_wt = 7\n",
    "wtArr =  [1,3,4,5]\n",
    "valArr = [1,4,5,7]\n",
    "\n",
    "def knapSack(wt, val, max_weight):\n",
    "    m = len(wt)\n",
    "\n",
    "    K = [[0 for j in range(0,max_weight+1)] for i in range(0,m)]\n",
    "\n",
    "    # iterating over the rows - the actual weights\n",
    "    for i in range(0, m):\n",
    "        for j in range(1,max_weight+1):\n",
    "            if wt[i]<=j:\n",
    "                K[i][j] = max(val[i]+K[i-1][j-wt[i]], K[i-1][j])\n",
    "            else:\n",
    "                K[i][j] = K[i-1][j]\n",
    "                \n",
    "    # find the elements that that were selected\n",
    "    row = m-1\n",
    "    col = max_weight\n",
    "    \n",
    "    knapSackItems = []\n",
    "    \n",
    "    while row>0 and col>0:\n",
    "        if K[row][col] == K[row-1][col]:\n",
    "            row-=1\n",
    "        else:\n",
    "            knapSackItems.append((wt[row], val[row]))\n",
    "            col-=wt[row] \n",
    "            row-=1\n",
    "    \n",
    "    return K[m-1][max_weight], knapSackItems, K\n",
    "            \n",
    "knapSack(wtArr, valArr, max_wt)"
   ]
  },
  {
   "cell_type": "code",
   "execution_count": 90,
   "metadata": {},
   "outputs": [
    {
     "data": {
      "text/plain": [
       "(220, [(30, 120), (20, 100)])"
      ]
     },
     "execution_count": 90,
     "metadata": {},
     "output_type": "execute_result"
    }
   ],
   "source": [
    "knapSack(wt = [10, 20, 30], val = [60, 100, 120], max_weight = 50)"
   ]
  },
  {
   "cell_type": "markdown",
   "metadata": {},
   "source": [
    "### 34\n",
    "Binary Search <br>\n",
    "Return the index of a number to be searched in a sorted array<br>\n",
    "Searching a sorted array. Time taken is proportional to log(n)<br>\n",
    "One variation will always give the first occurence of an element we are searching for and second variation will always give the last occurence of an element we are searching for"
   ]
  },
  {
   "cell_type": "code",
   "execution_count": 135,
   "metadata": {},
   "outputs": [
    {
     "name": "stdout",
     "output_type": "stream",
     "text": [
      "3\n",
      "11\n"
     ]
    }
   ],
   "source": [
    "### Using recursion\n",
    "def binary(arr, left, right, num):\n",
    "    if right>=left:\n",
    "        n = right-left+1\n",
    "        mid  = n//2\n",
    "\n",
    "        if arr[mid+left] == num:\n",
    "            return mid+left\n",
    "\n",
    "        elif arr[mid+left] > num:\n",
    "            return binary(arr, left, mid+left-1, num)\n",
    "\n",
    "        else:\n",
    "            return binary(arr, mid+left+1, right, num)\n",
    "\n",
    "    return 99999\n",
    "\n",
    "arr = [2,4,10,10,10,18,20]; r = len(arr)-1; l = 0\n",
    "print(binary(arr,l,r,10))\n",
    "\n",
    "arr = [1,1,3,3,5,5,5,5,5,9,9,11]; r = len(arr)-1; l = 0\n",
    "print(binary(arr,l,r,11))"
   ]
  },
  {
   "cell_type": "code",
   "execution_count": 145,
   "metadata": {},
   "outputs": [
    {
     "name": "stdout",
     "output_type": "stream",
     "text": [
      "2\n",
      "11\n"
     ]
    }
   ],
   "source": [
    "## iterative approach\n",
    "\n",
    "# keep dividing the array and search to the left or right based on the result at each step\n",
    "# for second variation, simply change high=mid-1 to low=mid+1 inside if condition\n",
    "\n",
    "def binary(arr,num):\n",
    "    left = 0\n",
    "    right = len(arr)-1\n",
    "    idx = -1\n",
    "    \n",
    "    while left <= right:\n",
    "        mid = right+left//2\n",
    "        if arr[mid]==num:\n",
    "            idx = mid # we have got the number at an index, storing that to result\n",
    "            right = mid-1 #trying to see if we have same number before this occurence\n",
    "            #return mid  returning mid directly would not always return the first occurence\n",
    "        elif num<arr[mid]:\n",
    "            right = mid-1\n",
    "        else:\n",
    "            left = mid+1\n",
    "    # we will return the lowest index of the number that we're searching for\n",
    "    return idx\n",
    "\n",
    "arr = [2,4,10,10,10,18,20]\n",
    "print(binary(arr,10))\n",
    "\n",
    "arr = [1,1,3,3,5,5,5,5,5,9,9,11]\n",
    "print(binary(arr, 11))"
   ]
  },
  {
   "cell_type": "markdown",
   "metadata": {},
   "source": [
    "### 35\n",
    "\n",
    "#### Iterable and Groupby<br>\n",
    "\n",
    "Syntax: itertools.groupby(iterable, key_func)\n",
    "\n",
    "Parameters:\n",
    "iterable: Iterable can be of any kind (list, tuple, dictionary).\n",
    "key: A function that calculates keys for each element present in iterable.\n",
    "\n",
    "Return type: It returns consecutive keys and groups from the iterable. If the key function is not specified or is None, key defaults to an identity function and returns the element unchanged.\n",
    "\n",
    "##### Lists(mutable), tuple(immutable), dictionary(mutable) - All support indexing but all don't support assignment"
   ]
  },
  {
   "cell_type": "code",
   "execution_count": 321,
   "metadata": {},
   "outputs": [
    {
     "name": "stdout",
     "output_type": "stream",
     "text": [
      "a : [('a', 1), ('a', 2)]\n",
      "b : [('b', 3), ('b', 4)]\n"
     ]
    }
   ],
   "source": [
    "## Example-1\n",
    "\n",
    "import itertools\n",
    "\n",
    "L = [(\"a\", 1), (\"a\", 2), (\"b\", 3), (\"b\", 4)]\n",
    "  \n",
    "# Key function\n",
    "key_func = lambda x: x[0]\n",
    "  \n",
    "for key, group in itertools.groupby(L, key_func):\n",
    "    print(key + \" :\", list(group))"
   ]
  },
  {
   "cell_type": "code",
   "execution_count": 323,
   "metadata": {},
   "outputs": [
    {
     "name": "stdout",
     "output_type": "stream",
     "text": [
      "{'Animal': [('Animal', 'cat'), ('Animal', 'dog')]}\n",
      "{'Bird': [('Bird', 'peacock'), ('Bird', 'pigeon')]}\n"
     ]
    }
   ],
   "source": [
    "## Example-2\n",
    "a_list = [(\"Animal\", \"cat\"), (\"Animal\", \"dog\"), (\"Bird\", \"peacock\"), (\"Bird\", \"pigeon\")]\n",
    "\n",
    "an_iterator = itertools.groupby(a_list, lambda x : x[0])\n",
    "  \n",
    "for key, group in an_iterator:\n",
    "    key_and_group = {key : list(group)}\n",
    "    print(key_and_group)"
   ]
  },
  {
   "cell_type": "markdown",
   "metadata": {},
   "source": [
    "#### Big O\n",
    "\n",
    "- Big O notation describes how quickly runtime will grow relative to the input as the input gets arbitrarily large\n",
    "- We compare how quickly runtime grows, and not compare exact times, since those can very depending on hardware\n",
    "- Big O can be used in time and in memory\n",
    "\n",
    "- Horrible : O(n!), O(2^n) - Exponential, O(n^2) - quadratic<br>\n",
    "- Bad : O(n log n) - Log Linear <br>\n",
    "- Fair : O(n) - Linear<br>\n",
    "- Good : O(log n) - Logarithmic, O(1) - Constant <br>\n",
    "\n",
    "- n^3 - Cubic  <br>\n",
    "Neural Networks have cubic and quadratic run times, that's where GPUs come in handy"
   ]
  },
  {
   "cell_type": "markdown",
   "metadata": {},
   "source": [
    "#### Questions\n",
    "\n",
    "1. list = [1,2,3]; list[0]\n",
    "Big(O) here is 1 and will remain 1 no matter how long the list becomes. Why?\n",
    "\n",
    "2. For a for loop printing the values in this list, will have Big(0) - O(n) Why?\n",
    "\n",
    "3. Nested for loop will have quadratic Big(O). Why?\n",
    "\n",
    "\n",
    "#### Calculation\n",
    "- We care about only the most significant terms, remember as the i/p grows larger only the faster growing terms will matter, LIKE taking limit towards infinity\n",
    "- In a function let's say there are 3 for loops, not nested. Its runtime will be 3O(n), still linear. It's not cubic. Also 3(infinity) is no different that infinity, so we can drop 3, and say it's run time is O(n)\n",
    "\n",
    "\n",
    "#### Space Complexity\n",
    "- Notation of space complexity is same, but instead it we check the size of allocation of memory rather than time of operation"
   ]
  },
  {
   "cell_type": "markdown",
   "metadata": {},
   "source": [
    "### 36\n",
    "\n",
    "Given a list of timestamps in sequential order, return a list of lists grouped by week (7 days) using the first timestamp as the starting point.\n",
    "\n",
    "Example:\n",
    "\n",
    "ts = [ '2019-01-01', '2019-01-02', '2019-01-08', '2019-02-01', '2019-02-02', '2019-02-05', ]\n",
    "\n",
    "output = [ ['2019-01-01', '2019-01-02'], ['2019-01-08'], ['2019-02-01', '2019-02-02'], ['2019-02-05'], ]"
   ]
  },
  {
   "cell_type": "code",
   "execution_count": 345,
   "metadata": {},
   "outputs": [
    {
     "data": {
      "text/plain": [
       "[['2019-01-01', '2019-01-02'],\n",
       " ['2019-01-08'],\n",
       " ['2019-02-01', '2019-02-02'],\n",
       " ['2019-02-05']]"
      ]
     },
     "execution_count": 345,
     "metadata": {},
     "output_type": "execute_result"
    }
   ],
   "source": [
    "import datetime\n",
    "import itertools\n",
    "\n",
    "def groupByWeek(arr):\n",
    "    if arr:\n",
    "        firstDay = datetime.datetime.strptime(arr[0], '%Y-%m-%d')\n",
    "        outputList = []\n",
    "        \n",
    "        for key, group in itertools.groupby(arr, lambda x: (datetime.datetime.strptime(x, '%Y-%m-%d')-firstDay).days//7):\n",
    "            outputList.append(list(group))\n",
    "        \n",
    "        return outputList\n",
    "    \n",
    "inp =  ['2019-01-01', '2019-01-02', '2019-01-08', '2019-02-01', '2019-02-02', '2019-02-05']\n",
    "groupByWeek(inp)"
   ]
  },
  {
   "cell_type": "markdown",
   "metadata": {},
   "source": [
    "### 37\n",
    "\n",
    "- Given a pivot x, and a list lst, partition the list into three parts.\n",
    "- The first part contains all elements in lst that are less than x \n",
    "- The second part contains all elements in lst that are equal to x \n",
    "- The third part contains all elements in lst that are larger than x \n",
    "\n",
    "Ordering within a part can be arbitrary.\n",
    "\n",
    "- For example, given x = 10 and lst = [9, 12, 3, 5, 14, 10, 10], one partition may be [9, 3, 5, 10, 10, 12, 14]."
   ]
  },
  {
   "cell_type": "code",
   "execution_count": 594,
   "metadata": {},
   "outputs": [
    {
     "data": {
      "text/plain": [
       "[3, 5, 9, 10, 12, 14, 10]"
      ]
     },
     "execution_count": 594,
     "metadata": {},
     "output_type": "execute_result"
    }
   ],
   "source": [
    "## Can be solved using brute force or a linked list\n",
    "\n",
    "def partitionList(arr, pivot):\n",
    "    pivot_element = pivot\n",
    "    partitionIdx = 0\n",
    "    \n",
    "    for i in range(0, len(arr)):\n",
    "        if arr[i]<=pivot_element:\n",
    "            arr[i], arr[partitionIdx] = arr[partitionIdx], arr[i]\n",
    "            partitionIdx+=1\n",
    "    return arr\n",
    "\n",
    "lst = [9, 12, 3, 10, 5, 14, 10]\n",
    "partitionList(lst, 5)"
   ]
  },
  {
   "cell_type": "markdown",
   "metadata": {},
   "source": [
    "### 38"
   ]
  },
  {
   "cell_type": "markdown",
   "metadata": {},
   "source": [
    "Median of a streaming data\n",
    "- Approach:\n",
    "    - Divide the sorted array into two structures. Now you worry only about the largest value from the first half and smallest value from 2nd half\n",
    "    - [1,2,3,4,5,6,7]  -> [1,2,3] [4,5,6,7]\n",
    "    - Heaps does this perfectly well, stores values in this order\n",
    "    \n",
    "- Heaps:\n",
    "    - Binary trees where in min-heap a parent node is always smaller than the children. Smallest number on top\n",
    "    - All operations in a heap are done in log(n) time as it is a binary tree\n",
    "    - Heaps is an example of priority queue, say max value on top (max-heap)\n",
    "    - arr[0] in a heap will always return the smallest element\n",
    "    \n",
    "    \n",
    "- App continued:\n",
    "    - First array will be a max heap and 2nd array will be a min heap\n",
    "    - The two structures/heaps should be of same length or the difference should be at max "
   ]
  },
  {
   "cell_type": "code",
   "execution_count": 236,
   "metadata": {},
   "outputs": [
    {
     "name": "stdout",
     "output_type": "stream",
     "text": [
      "2\n",
      "2.5\n",
      "3\n",
      "4.0\n"
     ]
    }
   ],
   "source": [
    "## Approach-1\n",
    "from heapq import heappop, heappush\n",
    "\n",
    "class MedianFinder:\n",
    "    def __init__(self):\n",
    "        self.q1 = []\n",
    "        self.q2 = []\n",
    "\n",
    "    def addNum(self, num: int) -> None:\n",
    "        heappush(self.q1, -num)\n",
    "        heappush(self.q2, -heappop(self.q1))\n",
    "        \n",
    "        if len(self.q2)>len(self.q1):\n",
    "            heappush(self.q1, -heappop(self.q2))\n",
    "    def findMedian(self) -> float:\n",
    "        if len(self.q1)!=len(self.q2):\n",
    "            return -self.q1[0]\n",
    "        else:\n",
    "            return (self.q2[0]-self.q1[0])/2\n",
    "\n",
    "\n",
    "# Your MedianFinder object will be instantiated and called as such:\n",
    "# obj = MedianFinder()\n",
    "# obj.addNum(num)\n",
    "# param_2 = obj.findMedian()\n",
    "\n",
    "obj = MedianFinder()\n",
    "obj.addNum(2)\n",
    "print(obj.findMedian())\n",
    "obj.addNum(3)\n",
    "print(obj.findMedian())\n",
    "obj.addNum(5)\n",
    "print(obj.findMedian())\n",
    "obj.addNum(7)\n",
    "print(obj.findMedian())"
   ]
  },
  {
   "cell_type": "code",
   "execution_count": 237,
   "metadata": {},
   "outputs": [
    {
     "name": "stdout",
     "output_type": "stream",
     "text": [
      "2\n",
      "2.5\n",
      "3\n",
      "4.0\n"
     ]
    }
   ],
   "source": [
    "## Approach-2\n",
    "\n",
    "q1 = []; q2 = []\n",
    "\n",
    "def medianFinder(num):     \n",
    "    heappush(q1, -num)\n",
    "    heappush(q2, -heappop(q1))\n",
    "\n",
    "    if len(q2)>len(q1):\n",
    "        heappush(q1, -heappop(q2))\n",
    "        \n",
    "    if len(q1)!=len(q2):\n",
    "        return -q1[0]\n",
    "    else:\n",
    "        return (-q1[0]+q2[0])/2\n",
    "    \n",
    "print(medianFinder(2))\n",
    "print(medianFinder(3))\n",
    "print(medianFinder(5))\n",
    "print(medianFinder(7))"
   ]
  },
  {
   "cell_type": "markdown",
   "metadata": {},
   "source": [
    "### 39\n",
    "Numpy operations and Matrix multiplication \n",
    "- Transpose\n",
    "- Add\n",
    "- Multiply\n",
    "- Divide\n",
    "- Append elements in rows\n",
    "- Append elements in columns"
   ]
  },
  {
   "cell_type": "code",
   "execution_count": 299,
   "metadata": {},
   "outputs": [],
   "source": [
    "## Change the datatype from list to array\n",
    "Y = np.array([[5,8,1,2],\n",
    "     [6,7,3,0],\n",
    "     [4,5,9,1]])"
   ]
  },
  {
   "cell_type": "code",
   "execution_count": 300,
   "metadata": {},
   "outputs": [
    {
     "data": {
      "text/plain": [
       "array([[5, 6, 4],\n",
       "       [8, 7, 5],\n",
       "       [1, 3, 9],\n",
       "       [2, 0, 1]])"
      ]
     },
     "execution_count": 300,
     "metadata": {},
     "output_type": "execute_result"
    }
   ],
   "source": [
    "## Transpose\n",
    "Y.T"
   ]
  },
  {
   "cell_type": "code",
   "execution_count": 301,
   "metadata": {},
   "outputs": [
    {
     "name": "stdout",
     "output_type": "stream",
     "text": [
      "[0 1]\n",
      "[0 1]\n"
     ]
    }
   ],
   "source": [
    "X=np.array([0,1])\n",
    "print(X)\n",
    "print(X.T)"
   ]
  },
  {
   "cell_type": "code",
   "execution_count": 223,
   "metadata": {},
   "outputs": [
    {
     "data": {
      "text/plain": [
       "array([[ 7, 10,  3,  4],\n",
       "       [ 8,  9,  5,  2],\n",
       "       [ 6,  7, 11,  3]])"
      ]
     },
     "execution_count": 223,
     "metadata": {},
     "output_type": "execute_result"
    }
   ],
   "source": [
    "## Add an element to the matrix\n",
    "Y = Y+2\n",
    "Y"
   ]
  },
  {
   "cell_type": "code",
   "execution_count": 224,
   "metadata": {},
   "outputs": [
    {
     "data": {
      "text/plain": [
       "array([[14, 20,  6,  8],\n",
       "       [16, 18, 10,  4],\n",
       "       [12, 14, 22,  6]])"
      ]
     },
     "execution_count": 224,
     "metadata": {},
     "output_type": "execute_result"
    }
   ],
   "source": [
    "### Multiply\n",
    "Y = Y*2\n",
    "Y"
   ]
  },
  {
   "cell_type": "code",
   "execution_count": 225,
   "metadata": {},
   "outputs": [
    {
     "data": {
      "text/plain": [
       "array([[ 7., 10.,  3.,  4.],\n",
       "       [ 8.,  9.,  5.,  2.],\n",
       "       [ 6.,  7., 11.,  3.]])"
      ]
     },
     "execution_count": 225,
     "metadata": {},
     "output_type": "execute_result"
    }
   ],
   "source": [
    "## Divide\n",
    "Y/2"
   ]
  },
  {
   "cell_type": "code",
   "execution_count": 229,
   "metadata": {},
   "outputs": [
    {
     "data": {
      "text/plain": [
       "array([[14, 20,  6,  8],\n",
       "       [16, 18, 10,  4],\n",
       "       [12, 14, 22,  6],\n",
       "       [ 1,  2,  3,  4]])"
      ]
     },
     "execution_count": 229,
     "metadata": {},
     "output_type": "execute_result"
    }
   ],
   "source": [
    "### Important: appending rows\n",
    "np.append(Y, [[1,2,3,4]], axis=0)"
   ]
  },
  {
   "cell_type": "code",
   "execution_count": 309,
   "metadata": {},
   "outputs": [
    {
     "data": {
      "text/plain": [
       "array([[5, 8, 1, 2],\n",
       "       [6, 7, 3, 0],\n",
       "       [4, 5, 9, 1]])"
      ]
     },
     "execution_count": 309,
     "metadata": {},
     "output_type": "execute_result"
    }
   ],
   "source": [
    "Y"
   ]
  },
  {
   "cell_type": "code",
   "execution_count": 233,
   "metadata": {},
   "outputs": [
    {
     "data": {
      "text/plain": [
       "array([[14, 20,  6,  8],\n",
       "       [16, 18, 10,  4],\n",
       "       [12, 14, 22,  6]])"
      ]
     },
     "execution_count": 233,
     "metadata": {},
     "output_type": "execute_result"
    }
   ],
   "source": [
    "Y"
   ]
  },
  {
   "cell_type": "code",
   "execution_count": 234,
   "metadata": {},
   "outputs": [
    {
     "data": {
      "text/plain": [
       "array([[14, 20,  6,  8,  1],\n",
       "       [16, 18, 10,  4,  2],\n",
       "       [12, 14, 22,  6,  3]])"
      ]
     },
     "execution_count": 234,
     "metadata": {},
     "output_type": "execute_result"
    }
   ],
   "source": [
    "#### Appending columns\n",
    "np.append(Y, [[1],[2],[3]], axis=1)"
   ]
  },
  {
   "cell_type": "markdown",
   "metadata": {},
   "source": [
    "#### Matrix Mult"
   ]
  },
  {
   "cell_type": "code",
   "execution_count": 238,
   "metadata": {},
   "outputs": [
    {
     "data": {
      "text/plain": [
       "[[114, 160, 60, 27], [74, 97, 73, 14], [119, 157, 112, 23]]"
      ]
     },
     "execution_count": 238,
     "metadata": {},
     "output_type": "execute_result"
    }
   ],
   "source": [
    "X = [[12,7,3],\n",
    "     [4,5,6],\n",
    "     [7,8,9]]\n",
    "\n",
    "Y = [[5,8,1,2],\n",
    "     [6,7,3,0],\n",
    "     [4,5,9,1]]\n",
    "\n",
    "result = [[sum(a*b for a,b in zip(X_row, Y_col)) for Y_col in zip(*Y)] for X_row in X]\n",
    "result"
   ]
  },
  {
   "cell_type": "code",
   "execution_count": 247,
   "metadata": {},
   "outputs": [],
   "source": [
    "a = np.array([[1,3,9]])\n",
    "b =  np.array([[12,7,3]])"
   ]
  },
  {
   "cell_type": "code",
   "execution_count": 248,
   "metadata": {},
   "outputs": [
    {
     "data": {
      "text/plain": [
       "array([[60]])"
      ]
     },
     "execution_count": 248,
     "metadata": {},
     "output_type": "execute_result"
    }
   ],
   "source": [
    "np.dot(a,b.T)"
   ]
  },
  {
   "cell_type": "markdown",
   "metadata": {},
   "source": [
    "### 40\n",
    "Given a dict of dicts of a JSON blob, parse particular entries\n",
    "- Access the self value for items"
   ]
  },
  {
   "cell_type": "code",
   "execution_count": 255,
   "metadata": {},
   "outputs": [
    {
     "data": {
      "text/plain": [
       "'https://www.google.com'"
      ]
     },
     "execution_count": 255,
     "metadata": {},
     "output_type": "execute_result"
    }
   ],
   "source": [
    "json_obj = {\n",
    "  \"items\": [\n",
    "    {\n",
    "      \"id\": \"12345\",\n",
    "      \"links\": {\n",
    "        \"self\": \"https://www.google.com\"\n",
    "      },\n",
    "      \"name\": \"beast\",\n",
    "      \"type\": \"Device\"\n",
    "    }\n",
    "  ],\n",
    "  \"links\": {\n",
    "    \"self\": \"https://www.google.com\"\n",
    "  },\n",
    "  \"paging\": {\n",
    "    \"count\": 1,\n",
    "    \"limit\": 1,\n",
    "    \"offset\": 0,\n",
    "    \"pages\": 1\n",
    "  }}\n",
    "\n",
    "json_obj['items'][0]['links']['self']"
   ]
  },
  {
   "cell_type": "markdown",
   "metadata": {},
   "source": [
    "### 41\n",
    "Coding test: moving average Input.    10, 20, 30, 10, ... Output: 10, 15, 20, 17.5, …\n"
   ]
  },
  {
   "cell_type": "code",
   "execution_count": 455,
   "metadata": {},
   "outputs": [],
   "source": [
    "class Average:\n",
    "    def __init__(self):\n",
    "        self.num_list = []\n",
    "        self.avg = 0\n",
    "    \n",
    "    def average(self, num):\n",
    "        self.num_list.append(num)\n",
    "        n = len(self.num_list)        \n",
    "        if self.avg==0:\n",
    "            self.avg = num\n",
    "            return self.avg\n",
    "        else:\n",
    "            self.avg = ((n-1)*self.avg + num)/n\n",
    "            return self.avg"
   ]
  },
  {
   "cell_type": "code",
   "execution_count": 456,
   "metadata": {},
   "outputs": [],
   "source": [
    "avgg = Average()"
   ]
  },
  {
   "cell_type": "code",
   "execution_count": 257,
   "metadata": {},
   "outputs": [
    {
     "name": "stdout",
     "output_type": "stream",
     "text": [
      "10.0\n",
      "15.0\n"
     ]
    },
    {
     "data": {
      "text/plain": [
       "20.0"
      ]
     },
     "execution_count": 257,
     "metadata": {},
     "output_type": "execute_result"
    }
   ],
   "source": [
    "arr = []\n",
    "class Average:\n",
    "    def __init__(self, num):\n",
    "        self.arr = arr.append(num)\n",
    "    def avg(self):\n",
    "        summ = 0\n",
    "        n = len(arr)\n",
    "        for i in arr:\n",
    "            summ = summ+i\n",
    "        return summ/n\n",
    "\n",
    "a = Average(10)\n",
    "print(a.avg())\n",
    "a = Average(20)\n",
    "print(a.avg())\n",
    "a = Average(30)\n",
    "a.avg()"
   ]
  },
  {
   "cell_type": "markdown",
   "metadata": {},
   "source": [
    "### 42\n",
    "Imagine a barplot, how much water can you pour over it \n",
    "\n",
    "Sol: Min(tallest on left, tallest on right) - length of bar for all bars - O(N2)\n",
    "\n",
    "[5,1,3,4], solution = 4"
   ]
  },
  {
   "cell_type": "code",
   "execution_count": 467,
   "metadata": {},
   "outputs": [],
   "source": [
    "def find_max(arr):\n",
    "    if arr:\n",
    "        max_ = -9999\n",
    "        for i in arr:\n",
    "            if i>max_:\n",
    "                max_ = i\n",
    "        return max_\n",
    "    return 0\n",
    "\n",
    "\n",
    "def solution(arr):\n",
    "    water = 0\n",
    "    for idx in range(1,len(arr)-1):\n",
    "        leftArr = arr[:idx]\n",
    "        rightArr = arr[idx+1:]\n",
    "        x =  min(find_max(leftArr), find_max(rightArr)) - arr[idx]\n",
    "        if x>0:\n",
    "            water += x\n",
    "    return water"
   ]
  },
  {
   "cell_type": "code",
   "execution_count": 470,
   "metadata": {},
   "outputs": [
    {
     "name": "stdout",
     "output_type": "stream",
     "text": [
      "2\n",
      "6\n",
      "4\n"
     ]
    }
   ],
   "source": [
    "print(solution([5,1,3,1]))\n",
    "print(solution([5,1,3,5]))\n",
    "print(solution([5,1,3,4]))"
   ]
  },
  {
   "cell_type": "code",
   "execution_count": 283,
   "metadata": {},
   "outputs": [
    {
     "data": {
      "text/plain": [
       "4"
      ]
     },
     "execution_count": 283,
     "metadata": {},
     "output_type": "execute_result"
    }
   ],
   "source": [
    "arr = [5,1,3,4]\n",
    "\n",
    "def findMinTallest(arr, barIdx):\n",
    "    ## Max or min cannot be used on a single number i.e. max(arr[0]) but can be used when we have max(arr[0:1]) it's the same thing\n",
    "    ## but also not\n",
    "    return min(max(arr[:barIdx]), max(arr[barIdx+1:]))\n",
    "    \n",
    "def water(arr):\n",
    "    arr1 = [1]*(len(arr)-2)\n",
    "    \n",
    "    ### We are not interested in the first and last values when doing the calculation, they will be included when calculating min and max \n",
    "    # though\n",
    "    for i in range(1,len(arr)-1):\n",
    "        arr1[i-1] = findMinTallest(arr, i) - arr[i]\n",
    "    \n",
    "    total_water = 0\n",
    "    for bar in arr1:\n",
    "        total_water += bar\n",
    "        \n",
    "    return total_water\n",
    "\n",
    "water(arr)"
   ]
  }
 ],
 "metadata": {
  "kernelspec": {
   "display_name": "Python 3",
   "language": "python",
   "name": "python3"
  },
  "language_info": {
   "codemirror_mode": {
    "name": "ipython",
    "version": 3
   },
   "file_extension": ".py",
   "mimetype": "text/x-python",
   "name": "python",
   "nbconvert_exporter": "python",
   "pygments_lexer": "ipython3",
   "version": "3.7.8"
  }
 },
 "nbformat": 4,
 "nbformat_minor": 4
}
