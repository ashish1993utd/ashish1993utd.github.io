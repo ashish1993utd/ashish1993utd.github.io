{
 "cells": [
  {
   "cell_type": "markdown",
   "metadata": {},
   "source": [
    "### 1"
   ]
  },
  {
   "cell_type": "code",
   "execution_count": 718,
   "metadata": {},
   "outputs": [],
   "source": [
    "## Mid point dividing the array into equal sums\n",
    "x = [5,3,2,2,1,8,3]\n",
    "\n",
    "def findMidPoint(x_list):\n",
    "    for idx,val in enumerate(x_list):\n",
    "        right_sum = sum(x_list[idx+1:])\n",
    "        left_sum = sum(x_list[:idx+1])\n",
    "        if left_sum==right_sum:\n",
    "            return idx\n",
    "            \n",
    "    return 'No Mid-point'"
   ]
  },
  {
   "cell_type": "code",
   "execution_count": 719,
   "metadata": {},
   "outputs": [
    {
     "data": {
      "text/plain": [
       "3"
      ]
     },
     "execution_count": 719,
     "metadata": {},
     "output_type": "execute_result"
    }
   ],
   "source": [
    "findMidPoint(x)"
   ]
  },
  {
   "cell_type": "code",
   "execution_count": 720,
   "metadata": {},
   "outputs": [
    {
     "name": "stdout",
     "output_type": "stream",
     "text": [
      "5\n",
      "4\n",
      "3\n",
      "2\n"
     ]
    }
   ],
   "source": [
    "## Reverse for loop\n",
    "\n",
    "for i in range(5,1,-1):\n",
    "    print(i)"
   ]
  },
  {
   "cell_type": "code",
   "execution_count": 721,
   "metadata": {},
   "outputs": [
    {
     "name": "stdout",
     "output_type": "stream",
     "text": [
      "5\n",
      "3\n"
     ]
    }
   ],
   "source": [
    "## With step size of 2\n",
    "for i in range(5,1,-2):\n",
    "    print(i)"
   ]
  },
  {
   "cell_type": "code",
   "execution_count": 722,
   "metadata": {},
   "outputs": [],
   "source": [
    "for i in range(1,5,-1):\n",
    "    print(i)"
   ]
  },
  {
   "cell_type": "markdown",
   "metadata": {},
   "source": [
    "### 2\n",
    "Find the pair of Anagrams in the list"
   ]
  },
  {
   "cell_type": "code",
   "execution_count": 66,
   "metadata": {},
   "outputs": [],
   "source": [
    "names = ['cinema','iceman','silent', 'Cinema','Listen', 'Fire','water']"
   ]
  },
  {
   "cell_type": "code",
   "execution_count": 88,
   "metadata": {},
   "outputs": [
    {
     "data": {
      "text/plain": [
       "['Cinema', 'Fire', 'Listen', 'cinema', 'iceman', 'silent', 'water']"
      ]
     },
     "execution_count": 88,
     "metadata": {},
     "output_type": "execute_result"
    }
   ],
   "source": [
    "sorted(names)"
   ]
  },
  {
   "cell_type": "code",
   "execution_count": 67,
   "metadata": {},
   "outputs": [],
   "source": [
    "## Using in-built sorted function\n",
    "def anagramDict(str_list):\n",
    "    # Dict of words, lowered along with index\n",
    "    ref_dict = {}\n",
    "    \n",
    "    for idx,name in enumerate(str_list):\n",
    "        name = name.lower()\n",
    "        name = \"\".join(sorted(name))\n",
    "        ref_dict[idx] = name\n",
    "    \n",
    "    \n",
    "    # Main logic\n",
    "    anagramList = []\n",
    "    seenIdx = []\n",
    "\n",
    "    for k in ref_dict.keys():\n",
    "        idxList = []\n",
    "        if k not in seenIdx:\n",
    "            for i in range(k+1,len(ref_dict)):\n",
    "                if ref_dict[k]==ref_dict[i]:\n",
    "                    idxList.append(names[i])\n",
    "                    seenIdx.append(i)\n",
    "            if len(idxList)>0:\n",
    "                seenIdx.append(k)\n",
    "                idxList.append(names[k])\n",
    "                anagramList.append(idxList)\n",
    "    return anagramList"
   ]
  },
  {
   "cell_type": "code",
   "execution_count": 68,
   "metadata": {},
   "outputs": [
    {
     "data": {
      "text/plain": [
       "[['iceman', 'Cinema', 'cinema'], ['Listen', 'silent']]"
      ]
     },
     "execution_count": 68,
     "metadata": {},
     "output_type": "execute_result"
    }
   ],
   "source": [
    "anagramDict(names)"
   ]
  },
  {
   "cell_type": "code",
   "execution_count": 85,
   "metadata": {},
   "outputs": [
    {
     "data": {
      "text/plain": [
       "[['cinema', 'iceman', 'Cinema'], ['silent', 'Listen']]"
      ]
     },
     "execution_count": 85,
     "metadata": {},
     "output_type": "execute_result"
    }
   ],
   "source": [
    "## Without in-built sorted function \n",
    "\n",
    "def anagram(word_1, word_2):\n",
    "    word_1 = word_1.lower()\n",
    "    word_1 = word_1.strip()\n",
    "    \n",
    "    word_2 = word_2.lower()\n",
    "    word_2 = word_2.strip()\n",
    "    \n",
    "    if len(word_1)!=len(word_2):\n",
    "        return False\n",
    "    \n",
    "    charDict = {}\n",
    "    for char in word_1:\n",
    "        if char in charDict:\n",
    "            charDict[char]+=1\n",
    "        else:\n",
    "            charDict[char]=1\n",
    "            \n",
    "    for char in word_2:\n",
    "        if char in charDict:\n",
    "            charDict[char]-=1\n",
    "        else:\n",
    "            return False\n",
    "    \n",
    "    for value in charDict.values():\n",
    "        if value!=0:\n",
    "            return False\n",
    "    \n",
    "    return True\n",
    "\n",
    "# print(anagram('cinema','iceman'))\n",
    "# print(anagram('cinema ',' Iceman'))\n",
    "# print(anagram('cinema','Fire'))\n",
    "\n",
    "def anagramList(arr):\n",
    "    if arr:\n",
    "        n = len(arr)\n",
    "        outputList = []     \n",
    "        seenIdx = []\n",
    "             \n",
    "        for i in range(0, n):\n",
    "            if i not in seenIdx and i<n-1:\n",
    "                anagramList = []\n",
    "       \n",
    "                for j in range(i+1, n):\n",
    "                    if anagram(arr[i], arr[j]):\n",
    "                        anagramList.append(arr[j])\n",
    "                        seenIdx.append(j)\n",
    "                if len(anagramList)>0:\n",
    "                    anagramList.insert(0,(arr[i]))\n",
    "                    outputList.append(anagramList)\n",
    "    else:\n",
    "        return ('Please provide a valid input')\n",
    "    \n",
    "    return outputList\n",
    "\n",
    "names = ['cinema','iceman','silent', 'Cinema','Listen', 'Fire','water']\n",
    "anagramList(names)"
   ]
  },
  {
   "cell_type": "markdown",
   "metadata": {},
   "source": [
    "### 3\n",
    "\n",
    "Lists/Arrays\n",
    "    \n",
    "- New lists create a shallow copy meaning you're only changing/creating your pointers, not duplicating objects in memory\n",
    "- Much of what we do is manipulate reference and calls, not the objects it self\n",
    "- Everything is an object in python\n",
    "\n",
    "- We do not need to dictate the size of array in memory for python. It grabs memory when it needs. It copies the array to a bigger array, and clears the memory from the previous array."
   ]
  },
  {
   "cell_type": "markdown",
   "metadata": {},
   "source": [
    "#### List Operations\n",
    "1. append()\n",
    "2. extend()\n",
    "3. insert()\n",
    "4. remove() - removes first occurence and del - deletes the particular element\n",
    "5. pop()\n",
    "6. reverse()\n",
    "7. slice\n",
    "8. min()\n",
    "9. max()\n",
    "10. len()\n",
    "11. count()\n",
    "12. concatenate\n",
    "13. multiply\n",
    "14. index()\n",
    "15. sort()\n",
    "16. clear()\n"
   ]
  },
  {
   "cell_type": "code",
   "execution_count": 223,
   "metadata": {},
   "outputs": [],
   "source": [
    "exampleList = [1,2,3,4,5,6,7,'Hello','Cinema','counter']"
   ]
  },
  {
   "cell_type": "code",
   "execution_count": 224,
   "metadata": {},
   "outputs": [
    {
     "data": {
      "text/plain": [
       "[1, 2, 3, 4, 5, 6, 7, 'Hello', 'Cinema', 'counter', 'Hi']"
      ]
     },
     "execution_count": 224,
     "metadata": {},
     "output_type": "execute_result"
    }
   ],
   "source": [
    "exampleList.append('Hi')\n",
    "exampleList"
   ]
  },
  {
   "cell_type": "code",
   "execution_count": 225,
   "metadata": {},
   "outputs": [
    {
     "data": {
      "text/plain": [
       "[1, 2, 3, 4, 5, 6, 7, 'Hello', 'Cinema', 'counter', 'Hi', 80, 'Clear']"
      ]
     },
     "execution_count": 225,
     "metadata": {},
     "output_type": "execute_result"
    }
   ],
   "source": [
    "# Just like append, but, can add multiple elements at the same time\n",
    "exampleList.extend([80, 'Clear'])\n",
    "exampleList"
   ]
  },
  {
   "cell_type": "code",
   "execution_count": 226,
   "metadata": {},
   "outputs": [
    {
     "data": {
      "text/plain": [
       "[1, 2, 3, 70, 4, 5, 6, 7, 'Hello', 'Cinema', 'counter', 'Hi', 80, 'Clear']"
      ]
     },
     "execution_count": 226,
     "metadata": {},
     "output_type": "execute_result"
    }
   ],
   "source": [
    "## Just like append, but, can insert an element at a particular index\n",
    "exampleList.insert(3,70)\n",
    "exampleList"
   ]
  },
  {
   "cell_type": "code",
   "execution_count": 227,
   "metadata": {},
   "outputs": [
    {
     "data": {
      "text/plain": [
       "[1, 2, 3, 3, 70, 4, 5, 6, 7, 'Hello', 'Cinema', 'counter', 'Hi', 80, 'Clear']"
      ]
     },
     "execution_count": 227,
     "metadata": {},
     "output_type": "execute_result"
    }
   ],
   "source": [
    "exampleList.insert(3,3)\n",
    "exampleList"
   ]
  },
  {
   "cell_type": "code",
   "execution_count": 228,
   "metadata": {},
   "outputs": [
    {
     "data": {
      "text/plain": [
       "[1, 2, 3, 70, 4, 5, 6, 7, 'Hello', 'Cinema', 'counter', 'Hi', 80, 'Clear']"
      ]
     },
     "execution_count": 228,
     "metadata": {},
     "output_type": "execute_result"
    }
   ],
   "source": [
    "## Removes the first occurence only if there are mulitple occurences of the same element\n",
    "exampleList.remove(3)\n",
    "exampleList"
   ]
  },
  {
   "cell_type": "code",
   "execution_count": 229,
   "metadata": {},
   "outputs": [
    {
     "data": {
      "text/plain": [
       "[1, 3, 4]"
      ]
     },
     "execution_count": 229,
     "metadata": {},
     "output_type": "execute_result"
    }
   ],
   "source": [
    "arr = [1,3,3,4]\n",
    "del arr[2]\n",
    "arr"
   ]
  },
  {
   "cell_type": "code",
   "execution_count": 230,
   "metadata": {},
   "outputs": [
    {
     "data": {
      "text/plain": [
       "[1, 2, 3, 4, 5, 6, 7, 'Hello', 'Cinema', 'counter', 'Hi', 80, 'Clear']"
      ]
     },
     "execution_count": 230,
     "metadata": {},
     "output_type": "execute_result"
    }
   ],
   "source": [
    "## Pops the last element if the index is not provided, otherwise, pops the particular element for which the index is provided\n",
    "exampleList.pop(3)\n",
    "exampleList"
   ]
  },
  {
   "cell_type": "code",
   "execution_count": 231,
   "metadata": {},
   "outputs": [
    {
     "data": {
      "text/plain": [
       "'Clear'"
      ]
     },
     "execution_count": 231,
     "metadata": {},
     "output_type": "execute_result"
    }
   ],
   "source": [
    "## Pop returns an element, remove doesn't\n",
    "exampleList.pop()"
   ]
  },
  {
   "cell_type": "code",
   "execution_count": 232,
   "metadata": {},
   "outputs": [
    {
     "data": {
      "text/plain": [
       "[1, 2, 3, 4, 5, 6, 7, 'Hello', 'Cinema', 'counter', 'Hi', 80]"
      ]
     },
     "execution_count": 232,
     "metadata": {},
     "output_type": "execute_result"
    }
   ],
   "source": [
    "exampleList"
   ]
  },
  {
   "cell_type": "code",
   "execution_count": null,
   "metadata": {},
   "outputs": [],
   "source": [
    "list_[:8:-1]"
   ]
  },
  {
   "cell_type": "code",
   "execution_count": 233,
   "metadata": {},
   "outputs": [
    {
     "name": "stdout",
     "output_type": "stream",
     "text": [
      "[1, 2]\n",
      "[3, 4, 5]\n",
      "[1, 2, 3, 4, 5, 6, 7, 'Hello', 'Cinema']\n",
      "[1, 2, 3, 4, 5, 6, 7, 'Hello', 'Cinema', 'counter', 'Hi']\n",
      "[1, 3, 5, 7]\n",
      "\n",
      "\n",
      "[80, 'Hi', 'counter']\n",
      "[6, 7, 'Hello', 'Cinema', 'counter', 'Hi']\n",
      "[1, 2, 3, 4, 5, 6, 7, 'Hello', 'Cinema', 'counter', 'Hi']\n",
      "[1, 3, 5, 7, 'Cinema', 'Hi']\n",
      "['counter', 'Cinema']\n"
     ]
    }
   ],
   "source": [
    "## Slicing\n",
    "print(exampleList[:2])\n",
    "print(exampleList[2:5])\n",
    "print(exampleList[:-3])\n",
    "print(exampleList[:-1])\n",
    "print(exampleList[:8:2])\n",
    "print('\\n')\n",
    "print(exampleList[:8:-1]) # different\n",
    "print(exampleList[5:-1])\n",
    "print(exampleList[:-1:]) #check it\n",
    "print(exampleList[:-1:2])\n",
    "print(exampleList[9:7:-1])"
   ]
  },
  {
   "cell_type": "code",
   "execution_count": 234,
   "metadata": {},
   "outputs": [
    {
     "data": {
      "text/plain": [
       "[80, 'Hi', 'counter', 'Cinema', 'Hello', 7, 6, 5, 4, 3, 2, 1]"
      ]
     },
     "execution_count": 234,
     "metadata": {},
     "output_type": "execute_result"
    }
   ],
   "source": [
    "## Reverse the list: It modifies the original list\n",
    "exampleList.reverse()\n",
    "exampleList"
   ]
  },
  {
   "cell_type": "code",
   "execution_count": 235,
   "metadata": {},
   "outputs": [
    {
     "data": {
      "text/plain": [
       "[1, 2, 3, 4, 5, 6, 7, 'Hello', 'Cinema', 'counter', 'Hi', 80]"
      ]
     },
     "execution_count": 235,
     "metadata": {},
     "output_type": "execute_result"
    }
   ],
   "source": [
    "## Reverse without modifying the original list\n",
    "exampleList[::-1]"
   ]
  },
  {
   "cell_type": "code",
   "execution_count": 236,
   "metadata": {},
   "outputs": [
    {
     "data": {
      "text/plain": [
       "[80, 'Hi', 'counter', 'Cinema', 'Hello', 7, 6, 5, 4, 3, 2, 1]"
      ]
     },
     "execution_count": 236,
     "metadata": {},
     "output_type": "execute_result"
    }
   ],
   "source": [
    "exampleList"
   ]
  },
  {
   "cell_type": "code",
   "execution_count": 163,
   "metadata": {},
   "outputs": [],
   "source": [
    "## Arithmetic operations can only be applied on same data types\n",
    "exampleList.remove('Hi')"
   ]
  },
  {
   "cell_type": "code",
   "execution_count": 164,
   "metadata": {},
   "outputs": [
    {
     "data": {
      "text/plain": [
       "'counter'"
      ]
     },
     "execution_count": 164,
     "metadata": {},
     "output_type": "execute_result"
    }
   ],
   "source": [
    "exampleList.pop(1)"
   ]
  },
  {
   "cell_type": "code",
   "execution_count": 165,
   "metadata": {},
   "outputs": [
    {
     "data": {
      "text/plain": [
       "[80, 7, 6, 5, 4, 3, 2, 1]"
      ]
     },
     "execution_count": 165,
     "metadata": {},
     "output_type": "execute_result"
    }
   ],
   "source": [
    "exampleList.remove('Cinema')\n",
    "exampleList.remove('Hello')\n",
    "exampleList"
   ]
  },
  {
   "cell_type": "code",
   "execution_count": 166,
   "metadata": {},
   "outputs": [
    {
     "data": {
      "text/plain": [
       "(1, 80, 8)"
      ]
     },
     "execution_count": 166,
     "metadata": {},
     "output_type": "execute_result"
    }
   ],
   "source": [
    "min(exampleList), max(exampleList), len(exampleList)"
   ]
  },
  {
   "cell_type": "code",
   "execution_count": 167,
   "metadata": {},
   "outputs": [
    {
     "data": {
      "text/plain": [
       "2"
      ]
     },
     "execution_count": 167,
     "metadata": {},
     "output_type": "execute_result"
    }
   ],
   "source": [
    "## Count returns the # of occurences of a particular element\n",
    "exampleList.append(4)\n",
    "exampleList.count(4)"
   ]
  },
  {
   "cell_type": "code",
   "execution_count": 168,
   "metadata": {},
   "outputs": [
    {
     "data": {
      "text/plain": [
       "[80, 7, 6, 5, 4, 3, 2, 1, 4, 2, 3, 'Hi']"
      ]
     },
     "execution_count": 168,
     "metadata": {},
     "output_type": "execute_result"
    }
   ],
   "source": [
    "## Concat two or more lists\n",
    "exampleList2 = [2,3,'Hi']\n",
    "exampleList+exampleList2"
   ]
  },
  {
   "cell_type": "code",
   "execution_count": 169,
   "metadata": {},
   "outputs": [
    {
     "data": {
      "text/plain": [
       "[80, 7, 6, 5, 4, 3, 2, 1, 4, 80, 7, 6, 5, 4, 3, 2, 1, 4]"
      ]
     },
     "execution_count": 169,
     "metadata": {},
     "output_type": "execute_result"
    }
   ],
   "source": [
    "## Multiply: Original list is iterated n times\n",
    "exampleList*2"
   ]
  },
  {
   "cell_type": "code",
   "execution_count": 172,
   "metadata": {},
   "outputs": [
    {
     "data": {
      "text/plain": [
       "[]"
      ]
     },
     "execution_count": 172,
     "metadata": {},
     "output_type": "execute_result"
    }
   ],
   "source": [
    "## Clear a list\n",
    "exampleList2.clear()\n",
    "exampleList2"
   ]
  },
  {
   "cell_type": "code",
   "execution_count": 176,
   "metadata": {},
   "outputs": [
    {
     "name": "stdout",
     "output_type": "stream",
     "text": [
      "[80, 7, 6, 5, 4, 3, 2, 1, 4]\n"
     ]
    },
    {
     "data": {
      "text/plain": [
       "0"
      ]
     },
     "execution_count": 176,
     "metadata": {},
     "output_type": "execute_result"
    }
   ],
   "source": [
    "#index() returns the position of the first occurrence of the given element. \n",
    "# It takes two optional parameters – the begin index and the end index. It doesn't THROW ANY ERROR because of these parameters\n",
    "# These parameters define the start and end position of the search area on the list. When supplied, the element is searched only in the \n",
    "### sub-list bound by the begin and end indices. When not supplied, the element is searched in the whole list.\n",
    "\n",
    "print(exampleList)\n",
    "exampleList.index(80)"
   ]
  },
  {
   "cell_type": "code",
   "execution_count": 177,
   "metadata": {},
   "outputs": [
    {
     "data": {
      "text/plain": [
       "4"
      ]
     },
     "execution_count": 177,
     "metadata": {},
     "output_type": "execute_result"
    }
   ],
   "source": [
    "exampleList.index(4)"
   ]
  },
  {
   "cell_type": "code",
   "execution_count": 179,
   "metadata": {},
   "outputs": [
    {
     "data": {
      "text/plain": [
       "4"
      ]
     },
     "execution_count": 179,
     "metadata": {},
     "output_type": "execute_result"
    }
   ],
   "source": [
    "exampleList.index(4,4,90)"
   ]
  },
  {
   "cell_type": "code",
   "execution_count": 180,
   "metadata": {},
   "outputs": [
    {
     "data": {
      "text/plain": [
       "8"
      ]
     },
     "execution_count": 180,
     "metadata": {},
     "output_type": "execute_result"
    }
   ],
   "source": [
    "exampleList.index(4,5,90)"
   ]
  },
  {
   "cell_type": "code",
   "execution_count": 181,
   "metadata": {},
   "outputs": [
    {
     "ename": "ValueError",
     "evalue": "14 is not in list",
     "output_type": "error",
     "traceback": [
      "\u001b[0;31m---------------------------------------------------------------------------\u001b[0m",
      "\u001b[0;31mValueError\u001b[0m                                Traceback (most recent call last)",
      "\u001b[0;32m<ipython-input-181-a53e69edc682>\u001b[0m in \u001b[0;36m<module>\u001b[0;34m\u001b[0m\n\u001b[0;32m----> 1\u001b[0;31m \u001b[0mexampleList\u001b[0m\u001b[0;34m.\u001b[0m\u001b[0mindex\u001b[0m\u001b[0;34m(\u001b[0m\u001b[0;36m14\u001b[0m\u001b[0;34m,\u001b[0m\u001b[0;36m5\u001b[0m\u001b[0;34m,\u001b[0m\u001b[0;36m90\u001b[0m\u001b[0;34m)\u001b[0m\u001b[0;34m\u001b[0m\u001b[0;34m\u001b[0m\u001b[0m\n\u001b[0m",
      "\u001b[0;31mValueError\u001b[0m: 14 is not in list"
     ]
    }
   ],
   "source": [
    "exampleList.index(14,5,90)"
   ]
  },
  {
   "cell_type": "code",
   "execution_count": 182,
   "metadata": {},
   "outputs": [
    {
     "data": {
      "text/plain": [
       "4"
      ]
     },
     "execution_count": 182,
     "metadata": {},
     "output_type": "execute_result"
    }
   ],
   "source": [
    "exampleList.index(4,-5,90)"
   ]
  },
  {
   "cell_type": "code",
   "execution_count": 185,
   "metadata": {},
   "outputs": [
    {
     "data": {
      "text/plain": [
       "[1, 2, 3, 4, 4, 5, 6, 7, 80]"
      ]
     },
     "execution_count": 185,
     "metadata": {},
     "output_type": "execute_result"
    }
   ],
   "source": [
    "### Sorting is applied to the original list, as well as reverse().\n",
    "exampleList.sort()\n",
    "exampleList"
   ]
  },
  {
   "cell_type": "code",
   "execution_count": 187,
   "metadata": {},
   "outputs": [
    {
     "name": "stdout",
     "output_type": "stream",
     "text": [
      "[80, 7, 6, 5, 4, 3, 2, 1, 4]\n"
     ]
    }
   ],
   "source": [
    "## Using sorted doesn't apply it to the original list\n",
    "list1 = [80, 7, 6, 5, 4, 3, 2, 1, 4]\n",
    "sorted([80, 7, 6, 5, 4, 3, 2, 1, 4])\n",
    "print(list1)"
   ]
  },
  {
   "cell_type": "code",
   "execution_count": 188,
   "metadata": {},
   "outputs": [
    {
     "name": "stdout",
     "output_type": "stream",
     "text": [
      "[1, 2, 3, 4, 4, 5, 6, 7, 80]\n"
     ]
    }
   ],
   "source": [
    "list1 = [80, 7, 6, 5, 4, 3, 2, 1, 4]\n",
    "list1.sort()\n",
    "print(list1)"
   ]
  },
  {
   "cell_type": "markdown",
   "metadata": {},
   "source": [
    "### 4\n",
    "\n",
    "### Return a list of bi-grams from a string\n",
    "\n",
    "sentence = \"\"\"\n",
    "Have free hours and love children?\n",
    "Drive kids to school, soccer practice\n",
    "and other activities.\n",
    "\"\"\"\n",
    "\n",
    "output = [('have', 'free'),\n",
    "('free', 'hours'),\n",
    "('hours', 'and'),\n",
    "('and', 'love'),\n",
    "('love', 'children?'),\n",
    "('children?', 'drive'),\n",
    "('drive', 'kids'),\n",
    "('kids', 'to'),\n",
    "('to', 'school,'),\n",
    "('school,', 'soccer'),\n",
    "('soccer', 'practice'),\n",
    "('practice', 'and'),\n",
    "('and', 'other'),\n",
    "('other', 'activities.')]"
   ]
  },
  {
   "cell_type": "code",
   "execution_count": 214,
   "metadata": {},
   "outputs": [],
   "source": [
    "def getBigrams(inputString):\n",
    "    ## Strip the white spaces from left and right of the string, and lower the string\n",
    "    inputString = inputString.strip()\n",
    "    inputString = inputString.lower()\n",
    "    ## Convert it into a list of elements of the string\n",
    "    wordList = inputString.split(' ')\n",
    "    \n",
    "    biGrams = []\n",
    "    \n",
    "    for idx in range(0, len(wordList)):\n",
    "        if idx < len(wordList)-1:\n",
    "            bigramTuple = (wordList[idx], wordList[idx+1])\n",
    "            biGrams.append(bigramTuple)\n",
    "    \n",
    "    return biGrams"
   ]
  },
  {
   "cell_type": "code",
   "execution_count": 215,
   "metadata": {},
   "outputs": [
    {
     "data": {
      "text/plain": [
       "[('have', 'free'),\n",
       " ('free', 'hours'),\n",
       " ('hours', 'and'),\n",
       " ('and', 'love'),\n",
       " ('love', 'children?'),\n",
       " ('children?', 'drive'),\n",
       " ('drive', 'kids'),\n",
       " ('kids', 'to'),\n",
       " ('to', 'school,'),\n",
       " ('school,', 'soccer'),\n",
       " ('soccer', 'practice'),\n",
       " ('practice', 'and'),\n",
       " ('and', 'other'),\n",
       " ('other', 'activities.')]"
      ]
     },
     "execution_count": 215,
     "metadata": {},
     "output_type": "execute_result"
    }
   ],
   "source": [
    "sentence = \"\"\" Have free hours and love children? Drive kids to school, soccer practice and other activities. \"\"\"\n",
    "getBigrams(sentence)"
   ]
  },
  {
   "cell_type": "markdown",
   "metadata": {},
   "source": [
    "### 5 \n",
    "\n",
    "Whether or not A can be shifted some number of times to get B. String rotation\n",
    "\n",
    "\n",
    "    A = 'abcde'\n",
    "    B = 'cdeab'\n",
    "    can_shift(A, B) == True\n",
    "\n",
    "    A = 'abc'\n",
    "    B = 'acb'\n",
    "    can_shift(A, B) == False"
   ]
  },
  {
   "cell_type": "code",
   "execution_count": 222,
   "metadata": {},
   "outputs": [],
   "source": [
    "def strRotation(inputStr, targetStr):\n",
    "    \n",
    "    if len(inputStr) != len(targetStr):\n",
    "        return False\n",
    "    else:\n",
    "        for i in range(len(inputStr)-1):\n",
    "            inputStr += inputStr[0]\n",
    "            inputStr = inputStr[1:]\n",
    "            \n",
    "            if inputStr == targetStr:\n",
    "                return True\n",
    "    return False"
   ]
  },
  {
   "cell_type": "code",
   "execution_count": 227,
   "metadata": {},
   "outputs": [
    {
     "name": "stdout",
     "output_type": "stream",
     "text": [
      "True\n",
      "False\n",
      "False\n",
      "True\n"
     ]
    }
   ],
   "source": [
    "print(strRotation('abcde', 'cdeab'))\n",
    "print(strRotation('abc', 'acb'))\n",
    "print(strRotation('abc', 'acbd'))\n",
    "print(strRotation('abcde', 'deabc'))"
   ]
  },
  {
   "cell_type": "markdown",
   "metadata": {},
   "source": [
    "### 6\n",
    "String Mapping/Isomorphic strings\n",
    "\n",
    "All occurrences of a character must be replaced with another character while preserving the order of characters. No two characters may map to the same character, but a character may map to itself."
   ]
  },
  {
   "cell_type": "code",
   "execution_count": 370,
   "metadata": {},
   "outputs": [],
   "source": [
    "## Another correct solution\n",
    "def strMapping(str1, str2):\n",
    "    str1 = str1.lower().strip()\n",
    "    str2 = str2.lower().strip()\n",
    "    \n",
    "    if str1 == str2:\n",
    "        return True\n",
    "    if len(str1)!=len(str2):\n",
    "        return False\n",
    "    \n",
    "    refDict = {}\n",
    "    n = len(str1)\n",
    "    \n",
    "    for i in range(n):\n",
    "        if str1[i] not in refDict:\n",
    "            if str2[i] not in refDict:  \n",
    "                refDict[str1[i]] = str2[i]\n",
    "                if str1[i]!= str2[i]:\n",
    "                    refDict[str2[i]] = str1[i]\n",
    "            else:\n",
    "                return False\n",
    "        else:\n",
    "            if str2[i]!=refDict[str1[i]]:\n",
    "                return False\n",
    "            \n",
    "    return True\n",
    "        "
   ]
  },
  {
   "cell_type": "code",
   "execution_count": 162,
   "metadata": {},
   "outputs": [],
   "source": [
    "### Correct solution\n",
    "def strMapping(str1, str2):\n",
    "    dict1 = {}\n",
    "    if len(str1)!=len(str2): return False\n",
    "    elif str1 == str2: return True\n",
    "    \n",
    "    else:\n",
    "        for i,j in zip(str1, str2):\n",
    "            if i in dict1:\n",
    "                if dict1[i]!=j:\n",
    "                    return False\n",
    "            elif j in dict1:\n",
    "                if dict1[j]!=i:\n",
    "                    return False\n",
    "            else:\n",
    "                dict1[i]=j\n",
    "                if i!=j:\n",
    "                    dict1[j]=i\n",
    "    return True          "
   ]
  },
  {
   "cell_type": "code",
   "execution_count": 163,
   "metadata": {},
   "outputs": [
    {
     "name": "stdout",
     "output_type": "stream",
     "text": [
      "False\n",
      "True\n",
      "False\n",
      "False\n",
      "False\n",
      "True\n",
      "True\n",
      "False\n",
      "False\n"
     ]
    }
   ],
   "source": [
    "print(strMapping('pape','paper'))\n",
    "print(strMapping('paper','paper'))\n",
    "print(strMapping('paper','title'))\n",
    "print(strMapping('foo','bar'))\n",
    "print(strMapping('bad','foo'))\n",
    "print(strMapping('egg','add'))\n",
    "print(strMapping('qwe','asd'))\n",
    "print(strMapping('donut','fatty'))\n",
    "print(strMapping('enemy','ymene'))"
   ]
  },
  {
   "cell_type": "markdown",
   "metadata": {},
   "source": [
    "### 7\n",
    "Given a string, return the first recurring character in it, or None if there is no recurring character."
   ]
  },
  {
   "cell_type": "code",
   "execution_count": 255,
   "metadata": {},
   "outputs": [],
   "source": [
    "def recurring(inputStr):\n",
    "    if len(inputStr)>0:\n",
    "        inputStr = inputStr.lower()\n",
    "        \n",
    "        refDict = {}\n",
    "        for char in inputStr:\n",
    "            if char in refDict:\n",
    "                return char\n",
    "            else:\n",
    "                refDict[char]=1\n",
    "        return None\n",
    "    return 'Enter valid input'"
   ]
  },
  {
   "cell_type": "code",
   "execution_count": 259,
   "metadata": {},
   "outputs": [
    {
     "name": "stdout",
     "output_type": "stream",
     "text": [
      "e\n",
      "None\n",
      "Enter valid input\n"
     ]
    }
   ],
   "source": [
    "print(recurring(\"newestquery\"))\n",
    "print(recurring(\"query\"))\n",
    "print(recurring(\"\"))"
   ]
  },
  {
   "cell_type": "markdown",
   "metadata": {},
   "source": [
    "### 8\n",
    "\n",
    "K'th smallest/largest element in unsorted array\n",
    "\n",
    "Input: arr[] = {7, 10, 4, 3, 20, 15}\n",
    "       k = 3\n",
    "Output: 7\n",
    "\n",
    "\n",
    "** Note **\n",
    "\n",
    "Largest item: Use Min Heap\n",
    "Smallest item: Use Max Heap\n",
    "\n",
    "    .heapify()\n",
    "    .peek()"
   ]
  },
  {
   "cell_type": "code",
   "execution_count": 712,
   "metadata": {},
   "outputs": [
    {
     "data": {
      "text/plain": [
       "10"
      ]
     },
     "execution_count": 712,
     "metadata": {},
     "output_type": "execute_result"
    }
   ],
   "source": [
    "### Brute Force\n",
    "def kLargest(arr,k):\n",
    "    if len(arr)==0:\n",
    "        return ('Please provide a valid input')\n",
    "    elif k<=len(arr) and k>0:\n",
    "        arr.sort()\n",
    "        arr = arr[::-1]\n",
    "\n",
    "        return(arr[k-1])\n",
    "    return('Invalid input for k')\n",
    "\n",
    "kLargest([7, 10, 4, 3, 20, 15], 3)"
   ]
  },
  {
   "cell_type": "code",
   "execution_count": 237,
   "metadata": {},
   "outputs": [
    {
     "data": {
      "text/plain": [
       "[2, 4, 5, 7, 15, 20]"
      ]
     },
     "execution_count": 237,
     "metadata": {},
     "output_type": "execute_result"
    }
   ],
   "source": [
    "## Quick sort using partition index (python's built in sort function)\n",
    "### Average Time complexity of O(nlog(n)), worst O(n^2)\n",
    "\n",
    "def quickSort(arr, l, r):\n",
    "    if l<r:\n",
    "        n = len(arr)\n",
    "        idx = l\n",
    "        pe = arr[r]\n",
    "        \n",
    "        for i in range(l,r):\n",
    "            if arr[i]<pe:\n",
    "                arr[i],arr[idx] = arr[idx],arr[i]\n",
    "                idx+=1\n",
    "        arr[idx], arr[r] = arr[r], arr[idx]\n",
    "        \n",
    "        quickSort(arr, l, idx-1)\n",
    "        quickSort(arr, idx+1, r)\n",
    "    \n",
    "    return arr \n",
    " \n",
    "arr = [7, 4, 15, 20, 5, 2]\n",
    "quickSort(arr, 0, 5)"
   ]
  },
  {
   "cell_type": "code",
   "execution_count": 238,
   "metadata": {},
   "outputs": [
    {
     "data": {
      "text/plain": [
       "[2, 4, 5, 7, 15, 20]"
      ]
     },
     "execution_count": 238,
     "metadata": {},
     "output_type": "execute_result"
    }
   ],
   "source": [
    "## Another Implementation of quick sort with two functions\n",
    "### As lists are mutable, when we call partitionIndex function the arr gets updated\n",
    "\n",
    "def partitionIndex(arr, l, r):\n",
    "    idx = l\n",
    "    pe = arr[r]\n",
    "\n",
    "    for i in range(l,r):\n",
    "        if arr[i]<pe:\n",
    "            arr[i],arr[idx] = arr[idx],arr[i]\n",
    "            idx+=1\n",
    "    arr[idx], arr[r] = arr[r], arr[idx]\n",
    "    return idx\n",
    "\n",
    "def quickSort2(arr, l, r):\n",
    "    if l<r:\n",
    "        idx = partitionIndex(arr, l, r)\n",
    "\n",
    "        quickSort(arr, l, idx-1)\n",
    "        quickSort(arr, idx+1, r)\n",
    "    \n",
    "    return arr \n",
    "\n",
    "arr = [7, 4, 15, 20, 5, 2]\n",
    "quickSort2(arr, 0, 5)"
   ]
  },
  {
   "cell_type": "code",
   "execution_count": 239,
   "metadata": {},
   "outputs": [
    {
     "data": {
      "text/plain": [
       "7"
      ]
     },
     "execution_count": 239,
     "metadata": {},
     "output_type": "execute_result"
    }
   ],
   "source": [
    "## K-largest implementation of above function using random pivot element\n",
    "\n",
    "def partitionRandom(arr, l, r):\n",
    "    import random\n",
    "    pivotIndex = int(random.random()*100 % n)\n",
    "    arr[r], arr[pivotIndex] = arr[pivotIndex], arr[r]\n",
    "    \n",
    "    return partitionIndex(arr, l, r)\n",
    "\n",
    "def quickSortKLargest(arr, l, r, k):\n",
    "    n = r - l +1\n",
    "    if k>0 and k<=n:\n",
    "        idx = partitionIndex(arr, l, r)\n",
    "        \n",
    "        if idx-l == n-k: \n",
    "            return arr[idx]\n",
    "        elif idx-l > n-k: \n",
    "            return quickSortKLargest(arr, l, idx-1, idx-n+k-l)\n",
    "        else: \n",
    "            return quickSortKLargest(arr, idx+1, r, k)\n",
    "\n",
    "    return 9999\n",
    "\n",
    "arr = [7, 4, 15, 20, 5, 2]\n",
    "quickSortKLargest(arr, 0, 5, 3)"
   ]
  },
  {
   "cell_type": "code",
   "execution_count": 7,
   "metadata": {},
   "outputs": [
    {
     "data": {
      "text/plain": [
       "20"
      ]
     },
     "execution_count": 7,
     "metadata": {},
     "output_type": "execute_result"
    }
   ],
   "source": [
    "## K-Smallest implementation of above function\n",
    "\n",
    "## Arrange in descending order\n",
    "def partitionIndex(arr, l, r):\n",
    "    idx = l\n",
    "    pe = arr[r]\n",
    "\n",
    "    for i in range(l,r):\n",
    "        if arr[i]>pe:\n",
    "            arr[i],arr[idx] = arr[idx],arr[i]\n",
    "            idx+=1\n",
    "    arr[idx], arr[r] = arr[r], arr[idx]\n",
    "    return idx\n",
    "\n",
    "def quickSortKSmallest(arr, l, r, k):\n",
    "    n = r - l +1\n",
    "    if l<=r:\n",
    "        idx = partitionIndex(arr, l, r)\n",
    "\n",
    "        if idx-l == n-k: \n",
    "            return arr[idx]\n",
    "        elif idx-l > n-k: \n",
    "            return quickSortKSmallest(arr, l, idx-1, idx-n+k-l)\n",
    "        else: \n",
    "            return quickSortKSmallest(arr, idx+1, r, k)\n",
    "\n",
    "    return 9999\n",
    "\n",
    "arr = [7, 4, 15, 20, 5, 2]\n",
    "quickSortKSmallest(arr, 0, 5, 6)"
   ]
  },
  {
   "cell_type": "markdown",
   "metadata": {},
   "source": [
    "### 9 \n",
    "Word frequency"
   ]
  },
  {
   "cell_type": "code",
   "execution_count": 79,
   "metadata": {},
   "outputs": [],
   "source": [
    "def word_occurence(inStr):\n",
    "    word_list = inStr.split(' ')\n",
    "    \n",
    "    refDict={}\n",
    "    \n",
    "    for word in word_list:\n",
    "        if word in refDict:\n",
    "            refDict[word]+=1\n",
    "        else:\n",
    "            refDict[word]=1\n",
    "     \n",
    "    max_val =0 \n",
    "    max_key = None\n",
    "    \n",
    "    for key,val in refDict.items():\n",
    "        if val>max_val:\n",
    "            max_val = val\n",
    "            max_key = key\n",
    "\n",
    "    return (max_key,max_val)"
   ]
  },
  {
   "cell_type": "markdown",
   "metadata": {},
   "source": [
    "### 10\n",
    "Fizzbuzz"
   ]
  },
  {
   "cell_type": "code",
   "execution_count": 317,
   "metadata": {},
   "outputs": [
    {
     "name": "stdout",
     "output_type": "stream",
     "text": [
      "1\n",
      "2\n",
      "Fizz\n",
      "4\n",
      "Buzz\n",
      "Fizz\n",
      "7\n",
      "8\n",
      "Fizz\n",
      "Buzz\n",
      "11\n",
      "Fizz\n",
      "13\n",
      "14\n",
      "FizzBuzz\n"
     ]
    }
   ],
   "source": [
    "for(x)in range(1,16):\n",
    "    print(\"Fizz\"*(x%3==0)+(x%5==0)*\"Buzz\"or x)"
   ]
  },
  {
   "cell_type": "markdown",
   "metadata": {},
   "source": [
    "### 11\n",
    "Valid Parenthesis"
   ]
  },
  {
   "cell_type": "code",
   "execution_count": 63,
   "metadata": {},
   "outputs": [
    {
     "name": "stdout",
     "output_type": "stream",
     "text": [
      "False\n",
      "True\n",
      "True\n",
      "False\n",
      "False\n",
      "False\n",
      "False\n"
     ]
    }
   ],
   "source": [
    "def isValid(parStr):\n",
    "    \n",
    "    if not parStr or len(parStr)%2!=0:\n",
    "        return False\n",
    "    \n",
    "    parDict = { '}':'{', ')':'(', ']':'[' }\n",
    "    stack = []\n",
    "    \n",
    "    for char in parStr:\n",
    "        if char in parDict:\n",
    "            if stack:\n",
    "                top_element = stack.pop()\n",
    "                if top_element != parDict[char]:\n",
    "                    return False\n",
    "            else:\n",
    "                return False\n",
    "        else:\n",
    "            stack.append(char)\n",
    "    \n",
    "    return not stack\n",
    "\n",
    "print(isValid('')) #F\n",
    "print(isValid('{(()){}}')) #T\n",
    "print(isValid('{}')) #T\n",
    "print(isValid('}{}()[]')) #F\n",
    "print(isValid('{{}()[')) #F\n",
    "print(isValid('{(})[]')) #F\n",
    "print(isValid(')[]')) #F"
   ]
  },
  {
   "cell_type": "markdown",
   "metadata": {},
   "source": [
    "### 12 \n",
    "Two Sum Problem\n",
    "\n",
    "    twoSum([2,3,5,13,10,7,8],11)\n",
    "    o/p [1,6]"
   ]
  },
  {
   "cell_type": "code",
   "execution_count": 388,
   "metadata": {},
   "outputs": [],
   "source": [
    "def twoSum(arr, num):\n",
    "    n = len(arr)\n",
    "    \n",
    "    if n>1:\n",
    "        for i in range(0, n):\n",
    "            diff = num - arr[i]\n",
    "            \n",
    "            for j in range(i+1, n):\n",
    "                if arr[j] == diff:\n",
    "                    return ([i,j])\n",
    "    return ('Invalid i/p or no two-sum')"
   ]
  },
  {
   "cell_type": "code",
   "execution_count": 391,
   "metadata": {},
   "outputs": [
    {
     "name": "stdout",
     "output_type": "stream",
     "text": [
      "[1, 6]\n",
      "[0, 1]\n"
     ]
    }
   ],
   "source": [
    "print(twoSum([2,3,5,13,10,7,8],11))\n",
    "print(twoSum([3,3],6))"
   ]
  },
  {
   "cell_type": "code",
   "execution_count": 75,
   "metadata": {},
   "outputs": [
    {
     "name": "stdout",
     "output_type": "stream",
     "text": [
      "[1, 6]\n",
      "[0, 1]\n"
     ]
    }
   ],
   "source": [
    "## Another Approach\n",
    "def twoSums(arr, num):\n",
    "    n = len(arr)\n",
    "    \n",
    "    if n>1:\n",
    "        numDict = {}\n",
    "        \n",
    "        for k,v in enumerate(arr):\n",
    "            diff = num - v\n",
    "            \n",
    "            if diff in numDict:\n",
    "                return([numDict[diff], k])\n",
    "            else:\n",
    "                numDict[v] = k\n",
    "                \n",
    "    return ('Invalid i/p or no two-sum')\n",
    "\n",
    "print(twoSums([2,3,5,13,10,7,8],11))\n",
    "print(twoSums([3,3],6))\n",
    "\n",
    "def twoSum(arr, num):\n",
    "    refDict = {}\n",
    "    for i in range(len(arr)):\n",
    "        if arr[i] in refDict:\n",
    "            return [refDict[arr[i]],i]\n",
    "        diff = num - arr[i]           \n",
    "        refDict[diff] = i\n",
    "    return -999\n",
    "        "
   ]
  },
  {
   "cell_type": "markdown",
   "metadata": {},
   "source": [
    "### 13\n",
    "Palindrome"
   ]
  },
  {
   "cell_type": "code",
   "execution_count": 118,
   "metadata": {},
   "outputs": [
    {
     "name": "stdout",
     "output_type": "stream",
     "text": [
      "True\n",
      "True\n",
      "True\n",
      "True\n",
      "False\n"
     ]
    }
   ],
   "source": [
    "def palindrome(word):\n",
    "    word = word.replace(\" \",'').lower()\n",
    "    n = len(word)\n",
    "    charList = []\n",
    "\n",
    "    if n==2:\n",
    "        return word[0]==word[1]\n",
    "    \n",
    "    if n%2 == 0:\n",
    "        mid = n/2\n",
    "        left_idx=mid\n",
    "        \n",
    "    else:\n",
    "        mid = int(n/2)\n",
    "        left_idx = mid+1\n",
    "    \n",
    "    for char in range(0, mid):\n",
    "            charList.append(word[char])\n",
    "    for char in range(left_idx, n):\n",
    "        if word[char] != charList.pop():\n",
    "#         if word[char] == charList[-1]:\n",
    "#             charList.pop()\n",
    "            return False\n",
    "    \n",
    "#     if charList:\n",
    "#         return False\n",
    "    return True\n",
    "\n",
    "print(palindrome('madaM '))\n",
    "print(palindrome('nurses run'))\n",
    "print(palindrome('aaa'))\n",
    "print(palindrome('dd'))\n",
    "print(palindrome('Right'))"
   ]
  },
  {
   "cell_type": "markdown",
   "metadata": {},
   "source": [
    "### 14\n",
    "Fib\n",
    "0 1 1 2 3 5 8 13\n",
    "\n",
    "Time Complexity: O(1.61)^n where 1.61 is also known as golden ratio"
   ]
  },
  {
   "cell_type": "code",
   "execution_count": 132,
   "metadata": {},
   "outputs": [
    {
     "name": "stdout",
     "output_type": "stream",
     "text": [
      "Please provide a valid input for n\n",
      "0\n",
      "[0, 1, 1, 2, 3]\n",
      "[0, 1, 1, 2, 3, 5, 8, 13, 21, 34]\n"
     ]
    }
   ],
   "source": [
    "# To get the whole sequence\n",
    "def fib(n):\n",
    "    if n<=0:\n",
    "        return ('Please provide a valid input for n')\n",
    "    \n",
    "    fib = [0,1]\n",
    "\n",
    "    if n == 1:\n",
    "        return(0)\n",
    "    else:\n",
    "        for i in range(2,n):\n",
    "            newVal = fib[i-1] + fib[i-2]\n",
    "            fib.append(newVal)\n",
    "            \n",
    "    return fib\n",
    "\n",
    "print(fib(0))\n",
    "print(fib(1))\n",
    "print(fib(5))\n",
    "print(fib(10))"
   ]
  },
  {
   "cell_type": "code",
   "execution_count": 148,
   "metadata": {},
   "outputs": [
    {
     "name": "stdout",
     "output_type": "stream",
     "text": [
      "0\n",
      "55\n"
     ]
    }
   ],
   "source": [
    "# Get the particular # at an index for a fibonacci sequence - Recursion\n",
    "\n",
    "def fib(n):\n",
    "    if n<0:\n",
    "        ('Invalid input')\n",
    "    elif n == 0:\n",
    "        return 0\n",
    "    elif n == 1:\n",
    "        return 1\n",
    "    else:\n",
    "        return fib(n-2) + fib(n-1)\n",
    "    \n",
    "print(fib(0))\n",
    "print(fib(10))"
   ]
  },
  {
   "cell_type": "code",
   "execution_count": 158,
   "metadata": {},
   "outputs": [
    {
     "name": "stdout",
     "output_type": "stream",
     "text": [
      "(0, [0, 1])\n",
      "(55, [0, 1, 1, 2, 3, 5, 8, 13, 21, 34, 55])\n"
     ]
    }
   ],
   "source": [
    "## Using DP\n",
    "\n",
    "def fib(n):\n",
    "    fibList = [0, 1]\n",
    "    \n",
    "    if n>=0:\n",
    "        ('Invalid input')\n",
    "    for i in range(2,n+1):\n",
    "        fibList.append(fibList[i-1] + fibList[i-2])    \n",
    "    return fibList[n], fibList\n",
    "\n",
    "print(fib(0))\n",
    "print(fib(10))"
   ]
  },
  {
   "cell_type": "code",
   "execution_count": 485,
   "metadata": {},
   "outputs": [
    {
     "data": {
      "text/plain": [
       "[0, 1, 1, 2, 3, 5, 8, 13, 21, 34]"
      ]
     },
     "execution_count": 485,
     "metadata": {},
     "output_type": "execute_result"
    }
   ],
   "source": [
    "def fibs(n):\n",
    "    fib = []\n",
    "    for i in range(0,n):\n",
    "        if i<2:\n",
    "            fib.append(i)\n",
    "        else:\n",
    "            fib.append(fib[i-2]+fib[i-1])\n",
    "    return fib\n",
    "\n",
    "fibs(10)"
   ]
  },
  {
   "cell_type": "markdown",
   "metadata": {},
   "source": [
    "### 15 \n",
    "Bubble Sort\n",
    "\n",
    "    Complexity worse O(n2)"
   ]
  },
  {
   "cell_type": "code",
   "execution_count": 162,
   "metadata": {},
   "outputs": [
    {
     "data": {
      "text/plain": [
       "[1, 2, 3, 4, 5, 6, 7, 8]"
      ]
     },
     "execution_count": 162,
     "metadata": {},
     "output_type": "execute_result"
    }
   ],
   "source": [
    "def bubble(arr):\n",
    "    if arr:\n",
    "        n = len(arr)\n",
    "        for iteration in range(0,n):\n",
    "            for i in range(0,n-1):\n",
    "                if arr[i]>arr[i+1]:\n",
    "                    arr[i], arr[i+1] = arr[i+1], arr[i]\n",
    "    return arr\n",
    "\n",
    "x=[6,5,3,1,8,7,2,4]\n",
    "bubble(x)"
   ]
  },
  {
   "cell_type": "code",
   "execution_count": 337,
   "metadata": {},
   "outputs": [
    {
     "data": {
      "text/plain": [
       "[1, 2, 3, 4, 5, 6, 7, 8]"
      ]
     },
     "execution_count": 337,
     "metadata": {},
     "output_type": "execute_result"
    }
   ],
   "source": [
    "## Using While loop\n",
    "def bubble(arr):\n",
    "    iteration = 0\n",
    "    while iteration<len(arr)-1:\n",
    "        for i in range(0,len(arr)-1):\n",
    "            if arr[i]>arr[i+1]:\n",
    "                arr[i], arr[i+1] = arr[i+1], arr[i]\n",
    "        iteration+=1\n",
    "    return arr\n",
    "\n",
    "x=[6,5,3,1,8,7,2,4]\n",
    "bubble(x)"
   ]
  },
  {
   "cell_type": "markdown",
   "metadata": {},
   "source": [
    "### 16 \n",
    "Selection Sort\n",
    "- Pick the smallest number and place it at the beginning and so on\n",
    "- Better than Bubble, worse than insertion"
   ]
  },
  {
   "cell_type": "code",
   "execution_count": 338,
   "metadata": {},
   "outputs": [
    {
     "data": {
      "text/plain": [
       "[1, 2, 3, 4, 5, 6, 7, 8]"
      ]
     },
     "execution_count": 338,
     "metadata": {},
     "output_type": "execute_result"
    }
   ],
   "source": [
    "def selectSort(arr):\n",
    "    if arr:\n",
    "        n= len(arr)\n",
    "        itr = 0\n",
    "\n",
    "        while itr<n-1:\n",
    "            min_num = 9999\n",
    "            for i in range(itr,n):\n",
    "                if arr[i]<min_num:\n",
    "                    min_num = arr[i]\n",
    "                    idx = i             \n",
    "            arr[itr], arr[idx] = arr[idx], arr[itr]\n",
    "            itr+=1\n",
    "    return arr\n",
    "            \n",
    "            \n",
    "x=[6,5,3,1,8,7,2,4]\n",
    "selectSort(x)"
   ]
  },
  {
   "cell_type": "markdown",
   "metadata": {},
   "source": [
    "### 17\n",
    "Insertion Sort"
   ]
  },
  {
   "cell_type": "code",
   "execution_count": 735,
   "metadata": {},
   "outputs": [
    {
     "data": {
      "text/plain": [
       "[1, 3, 5, 6]"
      ]
     },
     "execution_count": 735,
     "metadata": {},
     "output_type": "execute_result"
    }
   ],
   "source": [
    "x=[6,5,3,1]\n",
    "\n",
    "def insertSort(arr):\n",
    "    if arr:\n",
    "        for i in range(1, len(arr)):\n",
    "            j=i\n",
    "            while j>0:\n",
    "                if arr[j]<arr[j-1]:\n",
    "                    arr[j], arr[j-1] = arr[j-1], arr[j]\n",
    "                    j-=1\n",
    "                else:\n",
    "                    break\n",
    "    return arr\n",
    "\n",
    "\n",
    "insertSort(x)    "
   ]
  },
  {
   "cell_type": "markdown",
   "metadata": {},
   "source": [
    "### 18 \n",
    "Merge Sort\n",
    "- Always gives O(nlog(n)) and is pretty fast\n",
    "- Merging two arrays means more space complexity"
   ]
  },
  {
   "cell_type": "code",
   "execution_count": 319,
   "metadata": {},
   "outputs": [],
   "source": [
    "def mergeSort(arr):\n",
    "    n = len(arr)\n",
    "    if n>1:\n",
    "        # Divide the array into two parts\n",
    "        left = arr[:n//2]\n",
    "        right = arr[n//2:]\n",
    "        \n",
    "        ## Apply mergeSort recursively on the left and right half\n",
    "        mergeSort(left)\n",
    "        mergeSort(right)\n",
    "\n",
    "        ## Join the two halves\n",
    "        lIdx = 0  # index for left array\n",
    "        rIdx = 0 # index for right array\n",
    "        \n",
    "        k = 0 # index to be used for original array for inplace sorting, otherwise we need to create another array\n",
    "        \n",
    "        ## iterate through left and right array element by element, compare them and put them into otder in the original array\n",
    "        while lIdx<len(left) and rIdx<len(right):\n",
    "            if left[lIdx]<right[rIdx]:\n",
    "                arr[k] = left[lIdx]\n",
    "                lIdx+=1\n",
    "            else:\n",
    "                arr[k] = right[rIdx]\n",
    "                rIdx+=1\n",
    "            k+=1\n",
    "        \n",
    "        ### We need to check if any of the arrays has still elements left, due to unbalanced arrays on either side of the mid-point\n",
    "        #### this will happen. We will simply check the two arrays - left and right, and add its elements to the original array.\n",
    "        while lIdx<len(left):\n",
    "            arr[k] = left[lIdx]\n",
    "            lIdx+=1\n",
    "            k+=1\n",
    "        \n",
    "        while rIdx<len(right):\n",
    "            arr[k] = right[rIdx]\n",
    "            rIdx+=1\n",
    "            k+=1\n",
    "            \n",
    "    return arr\n",
    "\n",
    "x=[6,5,3,1,8,7,2]\n",
    "mergeSort(x)"
   ]
  },
  {
   "cell_type": "code",
   "execution_count": 107,
   "metadata": {},
   "outputs": [
    {
     "data": {
      "text/plain": [
       "[1, 2, 3, 5, 6, 7, 8]"
      ]
     },
     "execution_count": 107,
     "metadata": {},
     "output_type": "execute_result"
    }
   ],
   "source": [
    "merge(x)"
   ]
  },
  {
   "cell_type": "markdown",
   "metadata": {},
   "source": [
    "### 19\n",
    "Dictionaries\n",
    "\n",
    "- One key could be Null in a dictionary, and as many values could be Null. No two keys can be same\n",
    "- Dict Comprehension\n",
    "    - How copying works in dicts\n",
    "    - Use values from a dict in a string by unpacking\n",
    "    - Multiplying values of a dict by a number\n",
    "    - Using if else\n",
    "    \n",
    "- Nested Dict\n",
    "    - Python first starts from the outer loop and then goes to the inner one\n",
    " \n",
    "- Sorting a dictionary"
   ]
  },
  {
   "cell_type": "code",
   "execution_count": 24,
   "metadata": {},
   "outputs": [],
   "source": [
    "dict1['b']=3"
   ]
  },
  {
   "cell_type": "code",
   "execution_count": 233,
   "metadata": {},
   "outputs": [
    {
     "name": "stdout",
     "output_type": "stream",
     "text": [
      "{nan: nan, 'a': nan, 'b': 2}\n"
     ]
    },
    {
     "data": {
      "text/plain": [
       "{nan: nan, 'a': 2, 'b': 2}"
      ]
     },
     "execution_count": 233,
     "metadata": {},
     "output_type": "execute_result"
    }
   ],
   "source": [
    "## Null key - value\n",
    "dict1 = {}\n",
    "\n",
    "import numpy as np\n",
    "dict1[np.nan] = np.nan\n",
    "dict1['a']=np.nan\n",
    "dict1['b']=2\n",
    "print(dict1)\n",
    "\n",
    "## Overwriting a value\n",
    "dict1['a']=2\n",
    "dict1"
   ]
  },
  {
   "cell_type": "code",
   "execution_count": 251,
   "metadata": {},
   "outputs": [
    {
     "name": "stdout",
     "output_type": "stream",
     "text": [
      "nan\n",
      "False\n",
      "True\n",
      "False\n",
      "False\n"
     ]
    }
   ],
   "source": [
    "import numpy as np\n",
    "a = np.nan\n",
    "print(a)\n",
    "print(a==np.nan)\n",
    "print(a is np.nan)\n",
    "print(a== None)\n",
    "print(a is None)"
   ]
  },
  {
   "cell_type": "code",
   "execution_count": 339,
   "metadata": {},
   "outputs": [
    {
     "name": "stdout",
     "output_type": "stream",
     "text": [
      "{'ashish': 1, 'James': 2, 3: 'John'}\n",
      "{'ashish': 1, 'James': 2, 3: 'John'}\n"
     ]
    },
    {
     "data": {
      "text/plain": [
       "{'ashish': 1, 'James': 2, 3: 'John'}"
      ]
     },
     "execution_count": 339,
     "metadata": {},
     "output_type": "execute_result"
    }
   ],
   "source": [
    "## Copying a dict using .copy()\n",
    "dict1 = {'ashish':1, 'James':2, 3:'John'}\n",
    "dict2 = dict1.copy()\n",
    "print(dict1)\n",
    "print(dict2)\n",
    "\n",
    "## Copying using Dict comprehension\n",
    "dict3 = {k:v for k,v in dict1.items()}\n",
    "dict3"
   ]
  },
  {
   "cell_type": "code",
   "execution_count": 340,
   "metadata": {},
   "outputs": [
    {
     "data": {
      "text/plain": [
       "'Here they are 1 and 2'"
      ]
     },
     "execution_count": 340,
     "metadata": {},
     "output_type": "execute_result"
    }
   ],
   "source": [
    "## unpacking a dict (Like this only string keys can be used)\n",
    "stringVal = 'Here they are {ashish} and {James}'.format(**dict3)\n",
    "stringVal"
   ]
  },
  {
   "cell_type": "code",
   "execution_count": 383,
   "metadata": {},
   "outputs": [
    {
     "name": "stdout",
     "output_type": "stream",
     "text": [
      "Hi there\n"
     ]
    }
   ],
   "source": [
    "dict_ = {'ashish':'Hi', 'John':'there'}\n",
    "\n",
    "def rege(ashish, John):\n",
    "    print(ashish, John)\n",
    "\n",
    "rege(**dict_)"
   ]
  },
  {
   "cell_type": "code",
   "execution_count": 235,
   "metadata": {},
   "outputs": [
    {
     "name": "stdout",
     "output_type": "stream",
     "text": [
      "{'ashish': 5, 'James': 2, 3: 'John'}\n",
      "{'ashish': 1, 'James': 2, 3: 'John'}\n",
      "{'ashish': 1, 'James': 2, 3: 'John'}\n",
      "{'ashish': 5, 'James': 2, 3: 'John'}\n"
     ]
    }
   ],
   "source": [
    "## Changing the original doesn't change the copies but it does change the ones that are just pointers\n",
    "dict4 = dict1\n",
    "dict1['ashish']=5\n",
    "print(dict1)\n",
    "print(dict2)\n",
    "print(dict3)\n",
    "print(dict4)"
   ]
  },
  {
   "cell_type": "code",
   "execution_count": 139,
   "metadata": {},
   "outputs": [
    {
     "name": "stdout",
     "output_type": "stream",
     "text": [
      "{0: 0, 1: 1, 2: 4, 3: 9, 4: 16}\n"
     ]
    },
    {
     "data": {
      "text/plain": [
       "{'bread': 6, 'milk': 12, 'sugar': 9}"
      ]
     },
     "execution_count": 139,
     "metadata": {},
     "output_type": "execute_result"
    }
   ],
   "source": [
    "### Creating another dict using dict comprehension\n",
    "\n",
    "newDict = {num: num*num for num in range(0,5)}\n",
    "print(newDict)\n",
    "\n",
    "# multiplying values of a dictionary with an element \n",
    "newDict = {'bread':2, 'milk':4, 'sugar':3}\n",
    "newDict = {k:3*v for k,v in newDict.items()}\n",
    "newDict"
   ]
  },
  {
   "cell_type": "code",
   "execution_count": 137,
   "metadata": {},
   "outputs": [
    {
     "data": {
      "text/plain": [
       "{'milk': 12}"
      ]
     },
     "execution_count": 137,
     "metadata": {},
     "output_type": "execute_result"
    }
   ],
   "source": [
    "## Using two if statements, equal to and condition\n",
    "\n",
    "dict1 = {k:v for k,v in newDict.items() if v>7 if v%2==0}\n",
    "dict1"
   ]
  },
  {
   "cell_type": "code",
   "execution_count": 140,
   "metadata": {},
   "outputs": [
    {
     "data": {
      "text/plain": [
       "{'bread': 6, 'milk': 12, 'sugar': 9}"
      ]
     },
     "execution_count": 140,
     "metadata": {},
     "output_type": "execute_result"
    }
   ],
   "source": [
    "newDict"
   ]
  },
  {
   "cell_type": "code",
   "execution_count": 142,
   "metadata": {},
   "outputs": [
    {
     "data": {
      "text/plain": [
       "{'bread': 0, 'milk': 12, 'sugar': 9}"
      ]
     },
     "execution_count": 142,
     "metadata": {},
     "output_type": "execute_result"
    }
   ],
   "source": [
    "# If and else statement in dict comprehension\n",
    "\n",
    "dict1 = {k:(v if v>7 else 0) for k,v in newDict.items()}\n",
    "dict1"
   ]
  },
  {
   "cell_type": "code",
   "execution_count": 141,
   "metadata": {},
   "outputs": [
    {
     "data": {
      "text/plain": [
       "{0: 0, 12: 12, 9: 9}"
      ]
     },
     "execution_count": 141,
     "metadata": {},
     "output_type": "execute_result"
    }
   ],
   "source": [
    "# If and else statement in dict comprehension\n",
    "\n",
    "dict1 = {(v if v>7 else 0) :(v if v>7 else 0) for k,v in newDict.items()}\n",
    "dict1"
   ]
  },
  {
   "cell_type": "code",
   "execution_count": 254,
   "metadata": {},
   "outputs": [
    {
     "data": {
      "text/plain": [
       "{1: {6: 6, 7: 7, 8: 8},\n",
       " 2: {6: 12, 7: 14, 8: 16},\n",
       " 3: {6: 18, 7: 21, 8: 24},\n",
       " 4: {6: 24, 7: 28, 8: 32}}"
      ]
     },
     "execution_count": 254,
     "metadata": {},
     "output_type": "execute_result"
    }
   ],
   "source": [
    "## Nested Dict\n",
    "\n",
    "dictionary = {k1: {k2 : k1*k2 for k2 in range(6,9)} for k1 in range(1,5)}\n",
    "dictionary"
   ]
  },
  {
   "cell_type": "code",
   "execution_count": 259,
   "metadata": {},
   "outputs": [
    {
     "name": "stdout",
     "output_type": "stream",
     "text": [
      "6 12\n",
      "7 14\n",
      "8 16\n",
      "6 18\n",
      "7 21\n",
      "8 24\n",
      "6 24\n",
      "7 28\n",
      "8 32\n"
     ]
    }
   ],
   "source": [
    "## iterating over nested dictionary\n",
    "for k1,v1 in dictionary.items():\n",
    "    for k2,v2 in v1.items():\n",
    "        if v2>10:\n",
    "            print(k2,v2)"
   ]
  },
  {
   "cell_type": "code",
   "execution_count": 546,
   "metadata": {},
   "outputs": [
    {
     "name": "stdout",
     "output_type": "stream",
     "text": [
      "[('a', 6), ('b', 9), ('c', 3)]\n"
     ]
    },
    {
     "data": {
      "text/plain": [
       "[('c', 3), ('a', 6), ('b', 9)]"
      ]
     },
     "execution_count": 546,
     "metadata": {},
     "output_type": "execute_result"
    }
   ],
   "source": [
    "## Sorting a dictionary\n",
    "charDict = {'a':6,'c':3,'b':9}\n",
    "print(sorted(charDict.items(), key = lambda x:x[0]))\n",
    "sorted(charDict.items(), key = lambda x:x[1])"
   ]
  },
  {
   "cell_type": "markdown",
   "metadata": {},
   "source": [
    "### 20 \n",
    "List comprehensions\n",
    "- If else\n",
    "- Two ifs\n",
    "- Nested lists"
   ]
  },
  {
   "cell_type": "code",
   "execution_count": 264,
   "metadata": {},
   "outputs": [
    {
     "name": "stdout",
     "output_type": "stream",
     "text": [
      "[1, 4, 9, 16]\n",
      "[4, 16, 36, 64]\n"
     ]
    }
   ],
   "source": [
    "## List comprehension\n",
    "x = [i*i for i in range(1,5)]\n",
    "print(x)\n",
    "\n",
    "## Using If statement\n",
    "x = [i*i for i in range(1,10) if i*i%2==0]\n",
    "print(x)"
   ]
  },
  {
   "cell_type": "code",
   "execution_count": 265,
   "metadata": {},
   "outputs": [
    {
     "name": "stdout",
     "output_type": "stream",
     "text": [
      "[36, 64]\n"
     ]
    }
   ],
   "source": [
    "## Using two- if statements\n",
    "x = [i*i for i in range(1,10) if i*i%2==0 if i*i>20]\n",
    "print(x)"
   ]
  },
  {
   "cell_type": "code",
   "execution_count": 266,
   "metadata": {},
   "outputs": [
    {
     "name": "stdout",
     "output_type": "stream",
     "text": [
      "['*', 4, '*', 16, '*', 36, '*', 64, '*']\n"
     ]
    }
   ],
   "source": [
    "## Using if else\n",
    "x = [(i*i if i*i%2==0 else '*') for i in range(1,10)]\n",
    "print(x)"
   ]
  },
  {
   "cell_type": "code",
   "execution_count": 269,
   "metadata": {},
   "outputs": [
    {
     "data": {
      "text/plain": [
       "[[5, 6, 7, 8, 9],\n",
       " [10, 12, 14, 16, 18],\n",
       " [15, 18, 21, 24, 27],\n",
       " [20, 24, 28, 32, 36]]"
      ]
     },
     "execution_count": 269,
     "metadata": {},
     "output_type": "execute_result"
    }
   ],
   "source": [
    "### Nested Lists\n",
    "\n",
    "x = [[i2*i1 for i2 in range(5,10)] for i1 in range(1,5)]\n",
    "x"
   ]
  },
  {
   "cell_type": "code",
   "execution_count": 270,
   "metadata": {},
   "outputs": [
    {
     "data": {
      "text/plain": [
       "8"
      ]
     },
     "execution_count": 270,
     "metadata": {},
     "output_type": "execute_result"
    }
   ],
   "source": [
    "## Accessing an element from a nested list\n",
    "x[0][3]"
   ]
  },
  {
   "cell_type": "markdown",
   "metadata": {},
   "source": [
    "### 21\n",
    "Strings\n",
    "- Split\n",
    "    - Cannot split on an empty separator\n",
    "- Sort \n",
    "    - Remember how sorting works, Capital letters come before small letters. Numbers come at the beginning\n",
    "    - Sort the list of strings\n",
    "- Reverse\n",
    "    - Reversed and sorted both create an object, you need to create the string again.\n",
    "    - start = 'This is the best'\n",
    "    - finish = 'best the is This'\n",
    "\n",
    "    - Reverse is for a string\n",
    "    - Reversed is for an object"
   ]
  },
  {
   "cell_type": "code",
   "execution_count": 412,
   "metadata": {},
   "outputs": [
    {
     "name": "stdout",
     "output_type": "stream",
     "text": [
      "['I', 'am', 'a', 'good', 'human']\n"
     ]
    }
   ],
   "source": [
    "### Split: Converts the string into a list. Split() in default takes space as a delimiter\n",
    "\n",
    "x = 'I am a good human'\n",
    "y = x.split(' ')\n",
    "print(y)"
   ]
  },
  {
   "cell_type": "code",
   "execution_count": 215,
   "metadata": {},
   "outputs": [
    {
     "data": {
      "text/plain": [
       "['hello']"
      ]
     },
     "execution_count": 215,
     "metadata": {},
     "output_type": "execute_result"
    }
   ],
   "source": [
    "string = 'hello'\n",
    "string.split()"
   ]
  },
  {
   "cell_type": "code",
   "execution_count": 407,
   "metadata": {},
   "outputs": [
    {
     "data": {
      "text/plain": [
       "'2 namuh doog a ma I'"
      ]
     },
     "execution_count": 407,
     "metadata": {},
     "output_type": "execute_result"
    }
   ],
   "source": [
    "x = 'I am a good human 2'\n",
    "x[::-1]"
   ]
  },
  {
   "cell_type": "code",
   "execution_count": 415,
   "metadata": {},
   "outputs": [
    {
     "data": {
      "text/plain": [
       "'2 namuh doog a ma I'"
      ]
     },
     "execution_count": 415,
     "metadata": {},
     "output_type": "execute_result"
    }
   ],
   "source": [
    "''.join(reversed(x))"
   ]
  },
  {
   "cell_type": "code",
   "execution_count": 425,
   "metadata": {},
   "outputs": [
    {
     "name": "stdout",
     "output_type": "stream",
     "text": [
      "[' ', ' ', ' ', ' ', ' ', '2', 'I', 'a', 'a', 'a', 'd', 'g', 'h', 'm', 'm', 'n', 'o', 'o', 'u']\n",
      "\n",
      "\n",
      "     2Iaaadghmmnoou\n"
     ]
    }
   ],
   "source": [
    "### Sort: It's different from list sorting, where a list of numbers can be sorted using sort()-inplace sorting or sorted(list).\n",
    "##### Here we use sorted(string)\n",
    "x = 'I am a good human 2'\n",
    "y = sorted(x)\n",
    "print(y)\n",
    "\n",
    "### It basically breaks the whole string into characters and sorts them. To do it correctly:\n",
    "z = ''.join(sorted(x))\n",
    "print('\\n')\n",
    "print(z)"
   ]
  },
  {
   "cell_type": "code",
   "execution_count": 428,
   "metadata": {},
   "outputs": [
    {
     "name": "stdout",
     "output_type": "stream",
     "text": [
      "['I', 'am', 'a', 'good', 'human', '2']\n"
     ]
    },
    {
     "data": {
      "text/plain": [
       "['2', 'I', 'a', 'am', 'good', 'human']"
      ]
     },
     "execution_count": 428,
     "metadata": {},
     "output_type": "execute_result"
    }
   ],
   "source": [
    "### Sorting the list of strings:\n",
    "x = 'I am a good human 2'\n",
    "y = x.split(' ')\n",
    "print(y)\n",
    "sorted(y)"
   ]
  },
  {
   "cell_type": "code",
   "execution_count": 430,
   "metadata": {},
   "outputs": [
    {
     "data": {
      "text/plain": [
       "['2', 'I', 'a', 'am', 'good', 'human']"
      ]
     },
     "execution_count": 430,
     "metadata": {},
     "output_type": "execute_result"
    }
   ],
   "source": [
    "### Use can use list operations now. e.g. sort() for inplace sorting.\n",
    "y.sort()\n",
    "y"
   ]
  },
  {
   "cell_type": "code",
   "execution_count": 431,
   "metadata": {},
   "outputs": [
    {
     "data": {
      "text/plain": [
       "'2 doogmaI'"
      ]
     },
     "execution_count": 431,
     "metadata": {},
     "output_type": "execute_result"
    }
   ],
   "source": [
    "### Reverse a string\n",
    "x = 'Iamgood 2'\n",
    "x[::-1]"
   ]
  },
  {
   "cell_type": "code",
   "execution_count": 434,
   "metadata": {},
   "outputs": [
    {
     "name": "stdout",
     "output_type": "stream",
     "text": [
      "2 doogmaI\n"
     ]
    }
   ],
   "source": [
    "## Reverse without slicing\n",
    "\n",
    "a = ''\n",
    "for i in x:\n",
    "    a = i+a\n",
    "print(a)"
   ]
  },
  {
   "cell_type": "code",
   "execution_count": 267,
   "metadata": {},
   "outputs": [
    {
     "data": {
      "text/plain": [
       "'2 human good a am I'"
      ]
     },
     "execution_count": 267,
     "metadata": {},
     "output_type": "execute_result"
    }
   ],
   "source": [
    "## Reversing a list of words\n",
    "x = 'I am a good human 2'\n",
    "\n",
    "' '.join(reversed(x.split()))"
   ]
  },
  {
   "cell_type": "code",
   "execution_count": 276,
   "metadata": {},
   "outputs": [
    {
     "data": {
      "text/plain": [
       "'2 human good a am I'"
      ]
     },
     "execution_count": 276,
     "metadata": {},
     "output_type": "execute_result"
    }
   ],
   "source": [
    "## Reversing a list of words\n",
    "x = 'I am a good human 2'\n",
    "a = x.split()\n",
    "a.reverse()\n",
    "' '.join(a)"
   ]
  },
  {
   "cell_type": "code",
   "execution_count": 216,
   "metadata": {},
   "outputs": [
    {
     "data": {
      "text/plain": [
       "'dooG ma I'"
      ]
     },
     "execution_count": 216,
     "metadata": {},
     "output_type": "execute_result"
    }
   ],
   "source": [
    "a = 'I am Good'\n",
    "''.join(reversed(a))"
   ]
  },
  {
   "cell_type": "code",
   "execution_count": 219,
   "metadata": {},
   "outputs": [
    {
     "name": "stdout",
     "output_type": "stream",
     "text": [
      "I am Good\n"
     ]
    },
    {
     "data": {
      "text/plain": [
       "'Good am I'"
      ]
     },
     "execution_count": 219,
     "metadata": {},
     "output_type": "execute_result"
    }
   ],
   "source": [
    "print(a)\n",
    "' '.join(reversed(a.split()))"
   ]
  },
  {
   "cell_type": "code",
   "execution_count": 491,
   "metadata": {},
   "outputs": [
    {
     "name": "stdout",
     "output_type": "stream",
     "text": [
      "2 namuh doog a ma I\n",
      "2 namuh doog a ma I\n"
     ]
    }
   ],
   "source": [
    "## Reverse function for strings\n",
    "x = 'I am a good human 2'\n",
    "print(''.join(reversed(x)))\n",
    "print(x[::-1])"
   ]
  },
  {
   "cell_type": "markdown",
   "metadata": {},
   "source": [
    "#### String operations continued\n",
    "- Lower()\n",
    "- upper()   \n",
    "- Slicing\n",
    "- Accessing an element\n",
    "- strip() \n",
    "- replace() \n",
    " `No funcs work in place'"
   ]
  },
  {
   "cell_type": "code",
   "execution_count": 155,
   "metadata": {},
   "outputs": [
    {
     "name": "stdout",
     "output_type": "stream",
     "text": [
      "I AM GOOD 2\n",
      "i am good 2\n"
     ]
    }
   ],
   "source": [
    "x = 'I am good 2'\n",
    "a = x.upper()\n",
    "b = x.lower()\n",
    "\n",
    "print(a)\n",
    "print(b)"
   ]
  },
  {
   "cell_type": "code",
   "execution_count": 156,
   "metadata": {},
   "outputs": [
    {
     "name": "stdout",
     "output_type": "stream",
     "text": [
      "I am good 2\n",
      "I a\n",
      "I am good \n",
      "\n",
      "\n",
      "2do aI\n",
      " am \n",
      "2 doog ma I\n",
      "2 doo\n",
      "\n",
      "\n",
      "oo\n",
      "\n"
     ]
    },
    {
     "data": {
      "text/plain": [
       "[8, 7]"
      ]
     },
     "execution_count": 156,
     "metadata": {},
     "output_type": "execute_result"
    }
   ],
   "source": [
    "## Slicing\n",
    "print(x)\n",
    "print(x[:3])\n",
    "print(x[:-1])\n",
    "\n",
    "print('\\n')\n",
    "## Last slice determines the step as well, and -ve value reverses the string first\n",
    "print(x[::-2]) #Different\n",
    "print(x[1:5])\n",
    "print(x[::-1])\n",
    "print(x[:5:-1])\n",
    "\n",
    "print('\\n')\n",
    "## Misc slicing\n",
    "print(x[7:5:-1])\n",
    "print(x[1:5:-1])\n",
    "\n",
    "## Misc slicing works a little bit differently in lists\n",
    "a = [1,2,4,5,6,7,8,9]\n",
    "a[6:4:-1]\n"
   ]
  },
  {
   "cell_type": "code",
   "execution_count": 481,
   "metadata": {},
   "outputs": [
    {
     "name": "stdout",
     "output_type": "stream",
     "text": [
      "I am good 2\n",
      "I\n",
      "<class 'str'>\n",
      "d\n"
     ]
    }
   ],
   "source": [
    "print(x)\n",
    "print(x[0])\n",
    "print(type(x))\n",
    "print(x[-3])"
   ]
  },
  {
   "cell_type": "code",
   "execution_count": 493,
   "metadata": {},
   "outputs": [
    {
     "data": {
      "text/plain": [
       "['good', 'am', 'I']"
      ]
     },
     "execution_count": 493,
     "metadata": {},
     "output_type": "execute_result"
    }
   ],
   "source": [
    "### Reverse the list\n",
    "x = 'I am good'\n",
    "\n",
    "y = []\n",
    "for i in x.split():\n",
    "    y.insert(0,i)\n",
    "y"
   ]
  },
  {
   "cell_type": "code",
   "execution_count": 512,
   "metadata": {},
   "outputs": [
    {
     "name": "stdout",
     "output_type": "stream",
     "text": [
      " hi all\n",
      "hi all \n",
      "hi all\n",
      "hiall\n"
     ]
    },
    {
     "data": {
      "text/plain": [
       "' hi all '"
      ]
     },
     "execution_count": 512,
     "metadata": {},
     "output_type": "execute_result"
    }
   ],
   "source": [
    "### Strip\n",
    "\n",
    "x = ' hi all '\n",
    "print(x.rstrip())\n",
    "print(x.lstrip())\n",
    "print(x.strip())\n",
    "print(x.replace(' ', ''))\n",
    "x"
   ]
  },
  {
   "cell_type": "markdown",
   "metadata": {},
   "source": [
    "#### Difference between reversing a string and a list\n",
    "\n",
    "- Reversed ( ) is a string operation and not a list operation"
   ]
  },
  {
   "cell_type": "code",
   "execution_count": 769,
   "metadata": {},
   "outputs": [
    {
     "data": {
      "text/plain": [
       "'ereht iiH'"
      ]
     },
     "execution_count": 769,
     "metadata": {},
     "output_type": "execute_result"
    }
   ],
   "source": [
    "str1 = 'Hii there'\n",
    "''.join(reversed(str1))"
   ]
  },
  {
   "cell_type": "code",
   "execution_count": 770,
   "metadata": {},
   "outputs": [
    {
     "name": "stdout",
     "output_type": "stream",
     "text": [
      "['Hii', 'there']\n"
     ]
    },
    {
     "data": {
      "text/plain": [
       "<list_reverseiterator at 0x7f527221fa10>"
      ]
     },
     "execution_count": 770,
     "metadata": {},
     "output_type": "execute_result"
    }
   ],
   "source": [
    "x = str1.split()\n",
    "print(x)\n",
    "reversed(x)"
   ]
  },
  {
   "cell_type": "code",
   "execution_count": 771,
   "metadata": {},
   "outputs": [
    {
     "name": "stdout",
     "output_type": "stream",
     "text": [
      "thereHii\n",
      "there Hii\n"
     ]
    }
   ],
   "source": [
    "print(''.join(reversed(x)))\n",
    "print(' '.join(reversed(x)))"
   ]
  },
  {
   "cell_type": "markdown",
   "metadata": {},
   "source": [
    "### 22. \n",
    "Random Number Generation"
   ]
  },
  {
   "cell_type": "code",
   "execution_count": 118,
   "metadata": {},
   "outputs": [],
   "source": [
    "import numpy as np"
   ]
  },
  {
   "cell_type": "code",
   "execution_count": 137,
   "metadata": {},
   "outputs": [
    {
     "data": {
      "text/plain": [
       "array([0.96008844, 0.49188814, 0.16237162, 0.80089016, 0.14778188,\n",
       "       0.7190569 , 0.42141771, 0.80895925, 0.71155046, 0.412444  ])"
      ]
     },
     "execution_count": 137,
     "metadata": {},
     "output_type": "execute_result"
    }
   ],
   "source": [
    "np.random.rand(10) # [0,1) Uniform distribution"
   ]
  },
  {
   "cell_type": "code",
   "execution_count": 138,
   "metadata": {},
   "outputs": [
    {
     "data": {
      "text/plain": [
       "0.08477005659562531"
      ]
     },
     "execution_count": 138,
     "metadata": {},
     "output_type": "execute_result"
    }
   ],
   "source": [
    "np.random.rand() # [0,1) Uniform distribution"
   ]
  },
  {
   "cell_type": "code",
   "execution_count": 134,
   "metadata": {},
   "outputs": [
    {
     "data": {
      "text/plain": [
       "-0.9580876243855939"
      ]
     },
     "execution_count": 134,
     "metadata": {},
     "output_type": "execute_result"
    }
   ],
   "source": [
    "np.random.randn() "
   ]
  },
  {
   "cell_type": "code",
   "execution_count": 136,
   "metadata": {},
   "outputs": [
    {
     "data": {
      "text/plain": [
       "array([-0.50644084, -0.42301749,  1.67541296,  0.98290491, -0.23587039,\n",
       "        0.05312271,  0.78902518,  0.74559413, -0.34863061, -0.16214631])"
      ]
     },
     "execution_count": 136,
     "metadata": {},
     "output_type": "execute_result"
    }
   ],
   "source": [
    "np.random.randn(10)"
   ]
  },
  {
   "cell_type": "code",
   "execution_count": 140,
   "metadata": {},
   "outputs": [
    {
     "data": {
      "text/plain": [
       "array([[ 0.95202797, -0.82242834, -1.12809528],\n",
       "       [-0.81522116, -1.67726683,  0.48912331]])"
      ]
     },
     "execution_count": 140,
     "metadata": {},
     "output_type": "execute_result"
    }
   ],
   "source": [
    "np.random.randn(2,3)"
   ]
  },
  {
   "cell_type": "code",
   "execution_count": null,
   "metadata": {},
   "outputs": [],
   "source": [
    "np.random.randn(2,3)"
   ]
  },
  {
   "cell_type": "code",
   "execution_count": 144,
   "metadata": {},
   "outputs": [
    {
     "data": {
      "text/plain": [
       "array([[[ 0.15003365,  1.81944907, -0.80943693,  0.46940685,\n",
       "         -0.40505768],\n",
       "        [-1.55331675, -1.56378324,  1.03319811,  0.30824675,\n",
       "          0.13131924],\n",
       "        [-1.62199179, -0.2985705 , -0.46633965, -0.3623401 ,\n",
       "         -0.26197691]],\n",
       "\n",
       "       [[ 0.83215471,  0.82340885,  0.80031706,  0.02604893,\n",
       "         -0.75149522],\n",
       "        [ 1.47329901, -0.22326224, -0.93804576, -0.37609874,\n",
       "          0.52347397],\n",
       "        [-1.45924204,  0.55190315,  0.15928558,  0.39342081,\n",
       "         -0.58456077]]])"
      ]
     },
     "execution_count": 144,
     "metadata": {},
     "output_type": "execute_result"
    }
   ],
   "source": [
    "np.random.randn(2,3,5)"
   ]
  },
  {
   "cell_type": "code",
   "execution_count": 145,
   "metadata": {},
   "outputs": [
    {
     "data": {
      "text/plain": [
       "array([[[[-0.45983327,  0.30352928, -0.75129123,  0.43550285,\n",
       "          -0.056316  ],\n",
       "         [ 0.61685283, -0.05099857,  1.90689757, -0.21382867,\n",
       "           1.06257153],\n",
       "         [ 0.24382575, -1.84513642, -0.9951403 ,  1.30642562,\n",
       "          -0.27012128]],\n",
       "\n",
       "        [[ 0.88956598, -1.11871575, -0.19630005,  0.66576535,\n",
       "          -0.10837371],\n",
       "         [ 1.47360782, -1.26870772,  0.85451646, -0.06553314,\n",
       "          -0.34743733],\n",
       "         [ 0.89145588,  0.51302536, -0.18655366, -0.02285807,\n",
       "          -0.53321527]],\n",
       "\n",
       "        [[-0.01786964,  2.16319696,  2.73230119,  0.40046433,\n",
       "          -0.55399032],\n",
       "         [-0.83701375,  0.97215977, -0.12056961, -2.2113604 ,\n",
       "           1.63449834],\n",
       "         [ 1.79621578,  0.45952138, -0.70853836, -0.74567618,\n",
       "          -0.37653182]],\n",
       "\n",
       "        [[ 0.67487597, -0.53923676, -3.26881365,  1.05755403,\n",
       "          -1.71929496],\n",
       "         [-1.83524002,  1.35210583,  1.2236238 ,  1.17209828,\n",
       "          -0.19539576],\n",
       "         [-0.06874402,  0.77485685,  0.64454792, -0.05121092,\n",
       "           1.02279672]]],\n",
       "\n",
       "\n",
       "       [[[ 0.66901282, -0.41453883,  0.6347126 ,  0.9714506 ,\n",
       "           0.55447768],\n",
       "         [ 2.17695843,  1.86261552, -0.74862001,  0.15150524,\n",
       "           0.42810868],\n",
       "         [ 0.59693995, -1.85827795, -0.29737825, -0.08193858,\n",
       "           0.46553925]],\n",
       "\n",
       "        [[ 1.82813765,  1.15447492, -0.33488102,  0.79774254,\n",
       "           0.4462282 ],\n",
       "         [ 2.10643101, -0.65748259,  1.48903314,  0.98992113,\n",
       "           0.25359012],\n",
       "         [-0.67669709, -0.15492622,  0.8944435 , -0.88442018,\n",
       "           0.80109362]],\n",
       "\n",
       "        [[-0.78022548,  0.35283953,  0.29926336,  1.23795321,\n",
       "          -2.15754965],\n",
       "         [-0.77851632,  0.79214752, -0.45793555, -0.85871416,\n",
       "          -1.08361568],\n",
       "         [-1.60040921, -1.0426088 ,  0.99314843, -0.41293446,\n",
       "          -0.31586077]],\n",
       "\n",
       "        [[ 0.2757042 ,  0.22586547,  1.11571201,  0.13125732,\n",
       "          -0.04986477],\n",
       "         [-1.06174658,  0.10513282,  0.12700369, -0.58303426,\n",
       "          -1.14454447],\n",
       "         [ 0.55097408, -0.27611734, -0.41695762, -1.37015666,\n",
       "          -0.27862239]]]])"
      ]
     },
     "execution_count": 145,
     "metadata": {},
     "output_type": "execute_result"
    }
   ],
   "source": [
    "np.random.randn(2,4,3,5)"
   ]
  },
  {
   "cell_type": "code",
   "execution_count": 155,
   "metadata": {},
   "outputs": [
    {
     "data": {
      "text/plain": [
       "array([ 3.31018869, -4.89902615,  1.2316306 ,  6.43496705,  3.25241965,\n",
       "        3.49391548, -3.24675521,  0.33213934, -1.39533702,  9.91512293])"
      ]
     },
     "execution_count": 155,
     "metadata": {},
     "output_type": "execute_result"
    }
   ],
   "source": [
    "### Generate mu=2, sigma=3, and 10 numbers\n",
    "sigma = 3\n",
    "mean = 2\n",
    "s = np.random.normal(mean, sigma, 10)\n",
    "s"
   ]
  },
  {
   "cell_type": "code",
   "execution_count": 166,
   "metadata": {},
   "outputs": [
    {
     "data": {
      "image/png": "[encoded data removed]",
      "text/plain": [
       "<Figure size 432x288 with 1 Axes>"
      ]
     },
     "metadata": {
      "needs_background": "light"
     },
     "output_type": "display_data"
    }
   ],
   "source": [
    "import matplotlib.pyplot as plt\n",
    "\n",
    "sigma = 1\n",
    "mean = 0\n",
    "s = np.random.normal(mean, sigma, 100000)\n",
    "\n",
    "count, bins, ignored = plt.hist(s, 30, density=True)\n",
    "\n",
    "# plt.plot(bins, 1/(sigma * np.sqrt(2 * np.pi)) *\n",
    "#                np.exp( - (bins - mu)**2 / (2 * sigma**2) ),\n",
    "#          linewidth=2, color='r')\n",
    "\n",
    "plt.xlabel('Samples')\n",
    "plt.ylabel('pdf')\n",
    "plt.show()"
   ]
  },
  {
   "cell_type": "markdown",
   "metadata": {},
   "source": [
    "### 23\n",
    "\n",
    "Question\n",
    "\n",
    "input = [\n",
    "    {\n",
    "        'key': 'list1',\n",
    "        'values': [4,5,2,3,4,5,2,3],\n",
    "    },\n",
    "    \n",
    "    \n",
    "    {\n",
    "        'key': 'list2',\n",
    "        'values': [1,1,34,12,40,3,9,7],\n",
    "    }\n",
    "]\n",
    "\n",
    "output -> {'list1': 1.12, 'list2': 14.19}"
   ]
  },
  {
   "cell_type": "code",
   "execution_count": 171,
   "metadata": {},
   "outputs": [],
   "source": [
    "import numpy as np\n",
    "\n",
    "def compute_deviation(num_list):\n",
    "    outputDict = {}\n",
    "    \n",
    "    for element in num_list:\n",
    "        key = element['key']  \n",
    "        value = element['values'] \n",
    "        outputDict[key] = std_dev(value)\n",
    "        \n",
    "    return outputDict\n",
    "\n",
    "\n",
    "def std_dev(list_):\n",
    "    if list_:\n",
    "        n = len(list_)\n",
    "        sum_ = 0\n",
    "        \n",
    "        for i in list_:\n",
    "            sum_ += i\n",
    "        mean = sum_/n\n",
    "        \n",
    "        sum_squares = 0\n",
    "        \n",
    "        for i in list_:\n",
    "            sum_squares += ((i-mean)**2)/n\n",
    "        \n",
    "        return np.round((sum_squares)**0.5, 2)\n",
    "    return -999"
   ]
  },
  {
   "cell_type": "code",
   "execution_count": 172,
   "metadata": {},
   "outputs": [
    {
     "data": {
      "text/plain": [
       "{'list1': 1.12, 'list2': 14.19}"
      ]
     },
     "execution_count": 172,
     "metadata": {},
     "output_type": "execute_result"
    }
   ],
   "source": [
    "a = [ { 'key': 'list1', 'values': [4,5,2,3,4,5,2,3], },\n",
    "          { 'key': 'list2', 'values': [1,1,34,12,40,3,9,7]}]\n",
    "compute_deviation(a)"
   ]
  },
  {
   "cell_type": "markdown",
   "metadata": {},
   "source": [
    "### 24\n",
    "\n",
    "Question\n",
    "\n",
    "Highest Gain"
   ]
  },
  {
   "cell_type": "code",
   "execution_count": 189,
   "metadata": {},
   "outputs": [],
   "source": [
    "def find_dates(stock_prices, dts):\n",
    "    n = len(stock_prices)\n",
    "    \n",
    "    refDict = {}\n",
    "    \n",
    "    for idx in range(n-1):\n",
    "        investment = stock_prices[idx]\n",
    "        max_gain = -9999\n",
    "        max_idx = None\n",
    "        \n",
    "        i = idx+1\n",
    "        \n",
    "        while i<n:\n",
    "            if stock_prices[i]-investment > max_gain:\n",
    "                max_gain = stock_prices[i]-investment\n",
    "                max_idx = i\n",
    "            i+=1\n",
    "            \n",
    "        refDict[max_gain] = [idx, max_idx]\n",
    "        \n",
    "    \n",
    "    max_key = -99\n",
    "    list_idx = None\n",
    "    \n",
    "    for key in refDict.keys():\n",
    "        if key>max_key:\n",
    "            max_key = key\n",
    "            list_idx = refDict[key]\n",
    "    \n",
    "    return (max_key, dts[list_idx[0]], dts[list_idx[1]])"
   ]
  },
  {
   "cell_type": "code",
   "execution_count": 205,
   "metadata": {},
   "outputs": [
    {
     "data": {
      "text/plain": [
       "(27, '2019-01-02', '2019-01-04')"
      ]
     },
     "execution_count": 205,
     "metadata": {},
     "output_type": "execute_result"
    }
   ],
   "source": [
    "stock_prices = [10,5,20,32,25,12]\n",
    "dts = [\n",
    "'2019-01-01',\n",
    "'2019-01-02',\n",
    "'2019-01-03',\n",
    "'2019-01-04',\n",
    "'2019-01-05',\n",
    "'2019-01-06',\n",
    "]\n",
    " \n",
    "\n",
    "find_dates(stock_prices, dts)"
   ]
  },
  {
   "cell_type": "markdown",
   "metadata": {},
   "source": [
    "### 25\n",
    "\n",
    "Pandas question"
   ]
  },
  {
   "cell_type": "code",
   "execution_count": 206,
   "metadata": {},
   "outputs": [
    {
     "data": {
      "text/html": [
       "<div>\n",
       "<style scoped>\n",
       "    .dataframe tbody tr th:only-of-type {\n",
       "        vertical-align: middle;\n",
       "    }\n",
       "\n",
       "    .dataframe tbody tr th {\n",
       "        vertical-align: top;\n",
       "    }\n",
       "\n",
       "    .dataframe thead th {\n",
       "        text-align: right;\n",
       "    }\n",
       "</style>\n",
       "<table border=\"1\" class=\"dataframe\">\n",
       "  <thead>\n",
       "    <tr style=\"text-align: right;\">\n",
       "      <th></th>\n",
       "      <th>name</th>\n",
       "      <th>age</th>\n",
       "      <th>favorite_color</th>\n",
       "      <th>grade</th>\n",
       "    </tr>\n",
       "  </thead>\n",
       "  <tbody>\n",
       "    <tr>\n",
       "      <th>0</th>\n",
       "      <td>Tim Voss</td>\n",
       "      <td>19</td>\n",
       "      <td>red</td>\n",
       "      <td>91</td>\n",
       "    </tr>\n",
       "    <tr>\n",
       "      <th>1</th>\n",
       "      <td>Nicole Johnson</td>\n",
       "      <td>20</td>\n",
       "      <td>yellow</td>\n",
       "      <td>95</td>\n",
       "    </tr>\n",
       "    <tr>\n",
       "      <th>2</th>\n",
       "      <td>Elsa Williams</td>\n",
       "      <td>21</td>\n",
       "      <td>green</td>\n",
       "      <td>82</td>\n",
       "    </tr>\n",
       "    <tr>\n",
       "      <th>3</th>\n",
       "      <td>John James</td>\n",
       "      <td>20</td>\n",
       "      <td>blue</td>\n",
       "      <td>75</td>\n",
       "    </tr>\n",
       "    <tr>\n",
       "      <th>4</th>\n",
       "      <td>Catherine Jones</td>\n",
       "      <td>23</td>\n",
       "      <td>green</td>\n",
       "      <td>93</td>\n",
       "    </tr>\n",
       "  </tbody>\n",
       "</table>\n",
       "</div>"
      ],
      "text/plain": [
       "              name  age favorite_color  grade\n",
       "0         Tim Voss   19            red     91\n",
       "1   Nicole Johnson   20         yellow     95\n",
       "2    Elsa Williams   21          green     82\n",
       "3       John James   20           blue     75\n",
       "4  Catherine Jones   23          green     93"
      ]
     },
     "execution_count": 206,
     "metadata": {},
     "output_type": "execute_result"
    }
   ],
   "source": [
    "import pandas as pd\n",
    "\n",
    "students = {\"name\" : [\"Tim Voss\", \"Nicole Johnson\", \"Elsa Williams\", \"John James\", \"Catherine Jones\"], \"age\" : [19, 20, 21, 20, 23], \"favorite_color\" : [\"red\", \"yellow\", \"green\", \"blue\", \"green\"], \"grade\" : [91, 95, 82, 75, 93]}\n",
    "\n",
    "students_df = pd.DataFrame(students)\n",
    "students_df"
   ]
  },
  {
   "cell_type": "code",
   "execution_count": 207,
   "metadata": {},
   "outputs": [
    {
     "data": {
      "text/html": [
       "<div>\n",
       "<style scoped>\n",
       "    .dataframe tbody tr th:only-of-type {\n",
       "        vertical-align: middle;\n",
       "    }\n",
       "\n",
       "    .dataframe tbody tr th {\n",
       "        vertical-align: top;\n",
       "    }\n",
       "\n",
       "    .dataframe thead th {\n",
       "        text-align: right;\n",
       "    }\n",
       "</style>\n",
       "<table border=\"1\" class=\"dataframe\">\n",
       "  <thead>\n",
       "    <tr style=\"text-align: right;\">\n",
       "      <th></th>\n",
       "      <th>name</th>\n",
       "      <th>age</th>\n",
       "      <th>favorite_color</th>\n",
       "      <th>grade</th>\n",
       "    </tr>\n",
       "  </thead>\n",
       "  <tbody>\n",
       "    <tr>\n",
       "      <th>0</th>\n",
       "      <td>Tim Voss</td>\n",
       "      <td>19</td>\n",
       "      <td>red</td>\n",
       "      <td>91</td>\n",
       "    </tr>\n",
       "    <tr>\n",
       "      <th>4</th>\n",
       "      <td>Catherine Jones</td>\n",
       "      <td>23</td>\n",
       "      <td>green</td>\n",
       "      <td>93</td>\n",
       "    </tr>\n",
       "  </tbody>\n",
       "</table>\n",
       "</div>"
      ],
      "text/plain": [
       "              name  age favorite_color  grade\n",
       "0         Tim Voss   19            red     91\n",
       "4  Catherine Jones   23          green     93"
      ]
     },
     "execution_count": 207,
     "metadata": {},
     "output_type": "execute_result"
    }
   ],
   "source": [
    "students_df[((students_df['favorite_color']=='red') | (students_df['favorite_color']=='green')) & (students_df['grade']>=90)]"
   ]
  },
  {
   "cell_type": "markdown",
   "metadata": {},
   "source": [
    "### 26 \n",
    "Map and list"
   ]
  },
  {
   "cell_type": "code",
   "execution_count": 436,
   "metadata": {},
   "outputs": [
    {
     "data": {
      "text/plain": [
       "[True, True, True, True]"
      ]
     },
     "execution_count": 436,
     "metadata": {},
     "output_type": "execute_result"
    }
   ],
   "source": [
    "x = [3,4,10,12]\n",
    "\n",
    "list(map(lambda x: x>2, x))"
   ]
  },
  {
   "cell_type": "code",
   "execution_count": 439,
   "metadata": {},
   "outputs": [
    {
     "data": {
      "text/plain": [
       "[3, 4, 10, 12]"
      ]
     },
     "execution_count": 439,
     "metadata": {},
     "output_type": "execute_result"
    }
   ],
   "source": [
    "list(filter(lambda x: x>2, x))"
   ]
  },
  {
   "cell_type": "markdown",
   "metadata": {},
   "source": [
    "### 27\n",
    "Reading and writing JSON files"
   ]
  },
  {
   "cell_type": "code",
   "execution_count": 213,
   "metadata": {},
   "outputs": [
    {
     "data": {
      "text/plain": [
       "'{\"employees\": [{\"name\": \"John Doe\", \"department\": \"Marketing\", \"place\": \"Remote\"}, {\"name\": \"Jane Doe\", \"department\": \"Software Engineering\", \"place\": \"Remote\"}, {\"name\": \"Don Joe\", \"department\": \"Software Engineering\", \"place\": \"Office\"}]}'"
      ]
     },
     "execution_count": 213,
     "metadata": {},
     "output_type": "execute_result"
    }
   ],
   "source": [
    "import json\n",
    "\n",
    "data = {\n",
    "    'employees' : [\n",
    "        {\n",
    "            'name' : 'John Doe',\n",
    "            'department' : 'Marketing',\n",
    "            'place' : 'Remote'\n",
    "        },\n",
    "        {\n",
    "            'name' : 'Jane Doe',\n",
    "            'department' : 'Software Engineering',\n",
    "            'place' : 'Remote'\n",
    "        },\n",
    "        {\n",
    "            'name' : 'Don Joe',\n",
    "            'department' : 'Software Engineering',\n",
    "            'place' : 'Office'\n",
    "        }\n",
    "    ]\n",
    "}\n",
    "\n",
    "\n",
    "json_string = json.dumps(data)\n",
    "json_string"
   ]
  },
  {
   "cell_type": "code",
   "execution_count": null,
   "metadata": {},
   "outputs": [],
   "source": [
    "### Reading a json file\n",
    "with open('json_data.json') as json_file:\n",
    "    x = json.load(json_file)\n",
    "    print(x)"
   ]
  },
  {
   "cell_type": "markdown",
   "metadata": {},
   "source": [
    "### 28\n",
    "Job simulator\n",
    "https://www.interviewquery.com/questions/nightly-job"
   ]
  },
  {
   "cell_type": "code",
   "execution_count": 235,
   "metadata": {},
   "outputs": [
    {
     "data": {
      "text/plain": [
       "128480.0"
      ]
     },
     "execution_count": 235,
     "metadata": {},
     "output_type": "execute_result"
    }
   ],
   "source": [
    "## Generating a simulation n number of times\n",
    "\n",
    "import numpy as np\n",
    "\n",
    "def simulate(n):\n",
    "    times_overlap = 0\n",
    "    for i in range(n):\n",
    "        first_process = np.random.randint(0,300)\n",
    "        second_process = np.random.randint(0,300)\n",
    "        \n",
    "        if abs(first_process-second_process)<=60:\n",
    "            times_overlap+=1\n",
    "    return times_overlap/n\n",
    "\n",
    "simulate(1000)*1000*365"
   ]
  },
  {
   "cell_type": "code",
   "execution_count": 239,
   "metadata": {},
   "outputs": [
    {
     "data": {
      "text/plain": [
       "[132598.0, 132649.69]"
      ]
     },
     "execution_count": 239,
     "metadata": {},
     "output_type": "execute_result"
    }
   ],
   "source": [
    "def confidence_interval(m):\n",
    "    samples = []\n",
    "    for i in range(0,m):\n",
    "        samples.append(simulate(1000)*1000*365)\n",
    "    \n",
    "    mean = np.mean(samples)\n",
    "    var = np.var(samples)\n",
    "    std_error = (var/m)**0.25\n",
    "    \n",
    "    return [np.round(mean-1.96*std_error, 2), np.round(mean+1.96*std_error,2)]\n",
    "        \n",
    "confidence_interval(1000)"
   ]
  }
 ],
 "metadata": {
  "kernelspec": {
   "display_name": "Python 3",
   "language": "python",
   "name": "python3"
  },
  "language_info": {
   "codemirror_mode": {
    "name": "ipython",
    "version": 3
   },
   "file_extension": ".py",
   "mimetype": "text/x-python",
   "name": "python",
   "nbconvert_exporter": "python",
   "pygments_lexer": "ipython3",
   "version": "3.7.8"
  }
 },
 "nbformat": 4,
 "nbformat_minor": 4
}
