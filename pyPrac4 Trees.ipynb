{
 "cells": [
  {
   "cell_type": "markdown",
   "metadata": {},
   "source": [
    "#### Utility Funcs, move to next block"
   ]
  },
  {
   "cell_type": "code",
   "execution_count": 17,
   "metadata": {},
   "outputs": [],
   "source": [
    "# Function to print binary tree in 2D  \n",
    "# It does reverse inorder traversal  \n",
    "COUNT = [10]\n",
    "def print2DUtil(root, space) : \n",
    "  \n",
    "    # Base case  \n",
    "    if (root == None) : \n",
    "        return\n",
    "  \n",
    "    # Increase distance between levels  \n",
    "    space += COUNT[0] \n",
    "  \n",
    "    # Process right child first  \n",
    "    print2DUtil(root.right, space)  \n",
    "  \n",
    "    # Print current node after space  \n",
    "    # count  \n",
    "    print()  \n",
    "    for i in range(COUNT[0], space): \n",
    "        print(end = \" \")  \n",
    "    print(root.val)  \n",
    "  \n",
    "    # Process left child  \n",
    "    print2DUtil(root.left, space)  \n",
    "  \n",
    "    # Wrapper over print2DUtil()  \n",
    "def print2D(root) : \n",
    "      \n",
    "    # space=[0] \n",
    "    # Pass initial space count as 0  \n",
    "    print2DUtil(root, 0)  \n",
    "  "
   ]
  },
  {
   "cell_type": "markdown",
   "metadata": {},
   "source": [
    "\n",
    "### 1. Trees\n",
    "\n",
    "- Preorder Traversal: Root, then Left and then Right\n",
    "- Inorder Traversal: Left, Root and then Right\n",
    "- Postorder Traversal:  Left, right and then Root\n",
    "- In BST you want to do inorder traversal, that allows the nodes to be printed in order\n",
    "- Unbalanced Trees: Insert and Find is O(n); Balanced Trees: Insert and Find are O(log(n))\n"
   ]
  },
  {
   "cell_type": "code",
   "execution_count": 78,
   "metadata": {},
   "outputs": [
    {
     "name": "stdout",
     "output_type": "stream",
     "text": [
      "345\n",
      "123\n"
     ]
    },
    {
     "data": {
      "text/plain": [
       "345"
      ]
     },
     "execution_count": 78,
     "metadata": {},
     "output_type": "execute_result"
    }
   ],
   "source": [
    "### Basic class and object\n",
    "\n",
    "class MyClass:\n",
    "    i = 123\n",
    "    def __init__(self):\n",
    "        self.i = 345\n",
    "\n",
    "a = MyClass()\n",
    "print(a.i) # calling via an object\n",
    "print(MyClass.i)  # calling not with an object\n",
    "MyClass().i # this is again an object"
   ]
  },
  {
   "cell_type": "code",
   "execution_count": 15,
   "metadata": {},
   "outputs": [],
   "source": [
    "class Node:\n",
    "    def __init__(self, val):\n",
    "        self.right = None\n",
    "        self.left=None\n",
    "        self.val = val"
   ]
  },
  {
   "cell_type": "markdown",
   "metadata": {},
   "source": [
    "##### Creating a sample Binary Tree"
   ]
  },
  {
   "cell_type": "code",
   "execution_count": 111,
   "metadata": {},
   "outputs": [
    {
     "name": "stdout",
     "output_type": "stream",
     "text": [
      "\n",
      "          3\n",
      "\n",
      "1\n",
      "\n",
      "          2\n",
      "\n",
      "                    4\n"
     ]
    }
   ],
   "source": [
    "###  Defining the node class which we will use to create nodes.  \n",
    "#### It holds value for a node, the location of the left child and the location of the right child.\n",
    "\n",
    "class node:\n",
    "    def __init__(self,val):\n",
    "        self.left = None\n",
    "        self.right = None\n",
    "        self.val = val\n",
    "\n",
    "# Let's create a simple Tree\n",
    "root=node(1)\n",
    "root.left = node(2) \n",
    "root.right = node(3)\n",
    "\n",
    "root.left.left = node(4)\n",
    "print2D(root)"
   ]
  },
  {
   "cell_type": "markdown",
   "metadata": {},
   "source": [
    "##### Creating a BST from sorted Array\n",
    "\n",
    "- All left descendants to a node are <= node value\n",
    "- All right descendants to a node are > node value"
   ]
  },
  {
   "cell_type": "code",
   "execution_count": 81,
   "metadata": {},
   "outputs": [],
   "source": [
    "class Node:\n",
    "    def __init__(self,val):\n",
    "        self.left = None\n",
    "        self.right = None\n",
    "        self.val = val\n",
    "        \n",
    "array = [2,4,5,6,7]"
   ]
  },
  {
   "cell_type": "code",
   "execution_count": 82,
   "metadata": {},
   "outputs": [
    {
     "name": "stdout",
     "output_type": "stream",
     "text": [
      "\n",
      "          7\n",
      "\n",
      "                    6\n",
      "\n",
      "5\n",
      "\n",
      "          4\n",
      "\n",
      "                    2\n"
     ]
    }
   ],
   "source": [
    "def create_bst(array, l, r):\n",
    "    if l>r:\n",
    "        return None\n",
    "    \n",
    "    # We start by finding the middle of the array as our root node\n",
    "    n = r-l+1\n",
    "    mid = n//2+l\n",
    "    \n",
    "    # Create a root node\n",
    "    root = Node(array[mid])\n",
    "    \n",
    "    # Now we find the left bst and right bst of the node rescursively \n",
    "    left_bst = create_bst(array,l,mid-1)\n",
    "    right_bst = create_bst(array,mid+1,r)\n",
    "    root.left = left_bst\n",
    "    root.right = right_bst\n",
    "    \n",
    "    return root\n",
    "\n",
    "root = create_bst(array,0,len(array)-1)\n",
    "print2D(root)"
   ]
  },
  {
   "cell_type": "markdown",
   "metadata": {},
   "source": [
    "#### In-Order Traversal - Gives back sorted array for a BST"
   ]
  },
  {
   "cell_type": "code",
   "execution_count": 22,
   "metadata": {},
   "outputs": [
    {
     "name": "stdout",
     "output_type": "stream",
     "text": [
      "2\n",
      "4\n",
      "5\n",
      "6\n",
      "7\n"
     ]
    }
   ],
   "source": [
    "### Left - Root - Right\n",
    "def inorder(node):\n",
    "    if node:\n",
    "        inorder(node.left)\n",
    "        print(node.val)\n",
    "        inorder(node.right)\n",
    "\n",
    "inorder(root)"
   ]
  },
  {
   "cell_type": "markdown",
   "metadata": {},
   "source": [
    "#### Pre-Order Traversal - DFS"
   ]
  },
  {
   "cell_type": "code",
   "execution_count": 27,
   "metadata": {},
   "outputs": [
    {
     "name": "stdout",
     "output_type": "stream",
     "text": [
      "5\n",
      "4\n",
      "2\n",
      "7\n",
      "6\n"
     ]
    }
   ],
   "source": [
    "### Root - Left - Right\n",
    "def preorder(node):\n",
    "    if node:\n",
    "        print(node.val)\n",
    "        preorder(node.left)\n",
    "        preorder(node.right)\n",
    "preorder(root)"
   ]
  },
  {
   "cell_type": "markdown",
   "metadata": {},
   "source": [
    "#### Post-Order Traversal"
   ]
  },
  {
   "cell_type": "code",
   "execution_count": 85,
   "metadata": {},
   "outputs": [
    {
     "data": {
      "text/plain": [
       "[2, 4, 6, 7, 5]"
      ]
     },
     "execution_count": 85,
     "metadata": {},
     "output_type": "execute_result"
    }
   ],
   "source": [
    "#### Left - Right - Root\n",
    "def postorder(node):\n",
    "    res=[]\n",
    "    if node:\n",
    "        res = postorder(node.left)\n",
    "        res += postorder(node.right)\n",
    "        res.append(node.val)\n",
    "    return res\n",
    "postorder(root)"
   ]
  },
  {
   "cell_type": "markdown",
   "metadata": {},
   "source": [
    "#### Is it a Valid BST?"
   ]
  },
  {
   "cell_type": "code",
   "execution_count": 50,
   "metadata": {},
   "outputs": [
    {
     "data": {
      "text/plain": [
       "True"
      ]
     },
     "execution_count": 50,
     "metadata": {},
     "output_type": "execute_result"
    }
   ],
   "source": [
    "def isValidBST(node, minval, maxval):\n",
    "    if node:\n",
    "        # Base case, max_val goes to extreme right and min_val goes to extreme left\n",
    "        if node.val<minval or node.val>maxval:\n",
    "            return False\n",
    "        # Check the subtrees changing the min and max values\n",
    "        return isValidBST(node.left,minval,node.val) & isValidBST(node.right,node.val,maxval)\n",
    "    return True\n",
    "isValidBST(root,-float('inf'),float('inf'))\n",
    "#isValidBST(root,2,7)"
   ]
  },
  {
   "cell_type": "markdown",
   "metadata": {},
   "source": [
    "#### Check if it is a height balanced Tree?\n",
    "\n",
    "- A non-empty binary tree T is balanced if:\n",
    "    - 1) Left subtree of T is balanced\n",
    "    - 2) Right subtree of T is balanced\n",
    "    - 3) The difference between heights of left subtree and right subtree is not more than 1."
   ]
  },
  {
   "cell_type": "code",
   "execution_count": 164,
   "metadata": {},
   "outputs": [
    {
     "data": {
      "text/plain": [
       "True"
      ]
     },
     "execution_count": 164,
     "metadata": {},
     "output_type": "execute_result"
    }
   ],
   "source": [
    "# function to find height of binary tree \n",
    "# If it's just the root then height is 1\n",
    "\n",
    "def height(root): \n",
    "    # base condition when binary tree is empty \n",
    "    if root is None: \n",
    "        return 0\n",
    "    return max(height(root.left), height(root.right)) + 1\n",
    "\n",
    "    \n",
    "def isBalanced(root):       \n",
    "    # Base condition \n",
    "    if root is None: \n",
    "        return True\n",
    "  \n",
    "    # for left and right subtree height \n",
    "    lh = height(root.left) \n",
    "    rh = height(root.right) \n",
    "  \n",
    "    # allowed values for (lh - rh) are 1, -1, 0 \n",
    "    if (abs(lh - rh) <= 1) and isBalanced(root.left) is True and isBalanced( root.right) is True: \n",
    "        return True\n",
    "  \n",
    "    # if we reach here means tree is not  \n",
    "    # height-balanced tree \n",
    "    return False\n",
    "\n",
    "isBalanced(root)"
   ]
  },
  {
   "cell_type": "code",
   "execution_count": 165,
   "metadata": {},
   "outputs": [],
   "source": [
    "### LEET\n",
    "\n",
    "class TreeNode:\n",
    "    def __init__(self, val=0, left=None, right=None):\n",
    "        self.val = val\n",
    "        self.left = left\n",
    "        self.right = right\n",
    "        \n",
    "class Solution:\n",
    "    def height(self, node):\n",
    "        if node is None:\n",
    "            return 0\n",
    "        return max( self.height(node.left), self.height(node.right)) + 1\n",
    "    \n",
    "    def isBalanced(self, root):\n",
    "        if root is None:\n",
    "            return True\n",
    "        \n",
    "        lh = self.height(root.left)\n",
    "        rh = self.height(root.right)\n",
    "        \n",
    "        if abs(lh-rh)<=1 and self.isBalanced(root.left) is True and self.isBalanced(root.right) is True:\n",
    "            return True\n",
    "        return False        "
   ]
  },
  {
   "cell_type": "code",
   "execution_count": 166,
   "metadata": {},
   "outputs": [
    {
     "data": {
      "text/plain": [
       "True"
      ]
     },
     "execution_count": 166,
     "metadata": {},
     "output_type": "execute_result"
    }
   ],
   "source": [
    "checkBalancing = Solution()\n",
    "checkBalancing.isBalanced(root)"
   ]
  },
  {
   "cell_type": "markdown",
   "metadata": {},
   "source": [
    "#### Search operation in Tree"
   ]
  },
  {
   "cell_type": "code",
   "execution_count": 67,
   "metadata": {},
   "outputs": [
    {
     "data": {
      "text/plain": [
       "6"
      ]
     },
     "execution_count": 67,
     "metadata": {},
     "output_type": "execute_result"
    }
   ],
   "source": [
    "# Search operation in a Binary Search Tree\n",
    "def search(root,key):\n",
    "    if root is None:\n",
    "        return False      \n",
    "    elif root.val==key:\n",
    "        return root.val\n",
    "    else:\n",
    "        if root.val<key:\n",
    "            return search(root.right,key)\n",
    "        else:\n",
    "            return search(root.left,key)\n",
    "        \n",
    "search(root,6)"
   ]
  },
  {
   "cell_type": "markdown",
   "metadata": {},
   "source": [
    "#### Insert operation in Tree"
   ]
  },
  {
   "cell_type": "code",
   "execution_count": 53,
   "metadata": {},
   "outputs": [],
   "source": [
    "# Python program to demonstrate insert operation in binary search tree  \n",
    "# A utility function to insert a new node with the given key \n",
    "\n",
    "def insert(root,node):\n",
    "    if root is None:\n",
    "        root = node\n",
    "    elif root.val == node.val:\n",
    "        return root\n",
    "    else:\n",
    "        if root.val<node.val:\n",
    "            if root.right is None:\n",
    "                root.right = node\n",
    "            else:\n",
    "                insert(root.right,node)\n",
    "        else:\n",
    "            if root.left is None:\n",
    "                root.left=node\n",
    "            else:\n",
    "                insert(root.left,node)\n",
    "insert(root,node(3))"
   ]
  },
  {
   "cell_type": "markdown",
   "metadata": {},
   "source": [
    "#### Binary Tree Mirror Image of itself\n",
    "- symmetric around its center\n",
    "\n",
    "Time: O(n)\n",
    "\n",
    "Space: O(h) where h is the height of the tree"
   ]
  },
  {
   "cell_type": "code",
   "execution_count": 73,
   "metadata": {},
   "outputs": [],
   "source": [
    "def isMirror(root1, root2):\n",
    "    # If both trees are empty, then they are mirror images\n",
    "    if root1 is None and root2 is None:\n",
    "        return True\n",
    " \n",
    "    \"\"\" For two trees to be mirror images,\n",
    "        the following three conditions must be true\n",
    "        1 - Their root node's key must be same\n",
    "        2 - left subtree of left tree and right subtree\n",
    "          of the right tree have to be mirror images\n",
    "        3 - right subtree of left tree and left subtree\n",
    "           of right tree have to be mirror images\n",
    "    \"\"\"\n",
    "    if (root1 is not None and root2 is not None):\n",
    "        if root1.key == root2.key:\n",
    "            return (isMirror(root1.left, root2.right)and\n",
    "                    isMirror(root1.right, root2.left))\n",
    " \n",
    "    # If none of the above conditions is true then root1\n",
    "    # and root2 are not mirror images\n",
    "    return False\n",
    " \n",
    "\n",
    "def isSymmetric(root):\n",
    "    return isMirror(root, root)"
   ]
  }
 ],
 "metadata": {
  "kernelspec": {
   "display_name": "Python 3",
   "language": "python",
   "name": "python3"
  },
  "language_info": {
   "codemirror_mode": {
    "name": "ipython",
    "version": 3
   },
   "file_extension": ".py",
   "mimetype": "text/x-python",
   "name": "python",
   "nbconvert_exporter": "python",
   "pygments_lexer": "ipython3",
   "version": "3.7.8"
  }
 },
 "nbformat": 4,
 "nbformat_minor": 4
}
