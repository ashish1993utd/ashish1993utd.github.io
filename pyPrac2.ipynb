{
 "cells": [
  {
   "cell_type": "markdown",
   "metadata": {},
   "source": [
    "### 22\n",
    "\n",
    "Unique characters in a string\n",
    "\n",
    "string = 'abc bbg kg'\n",
    "\n",
    "    [a,b,c,k,g]\n",
    "    \n",
    "#1 : print unique characters\n",
    "\n",
    "#2 : check if all characters in string are unique\n",
    "\n",
    "#3 : Number of all unique elements sorted by number of occurences"
   ]
  },
  {
   "cell_type": "code",
   "execution_count": 515,
   "metadata": {},
   "outputs": [
    {
     "data": {
      "text/plain": [
       "['b', 'k', 'a', 'g', 'c']"
      ]
     },
     "execution_count": 515,
     "metadata": {},
     "output_type": "execute_result"
    }
   ],
   "source": [
    "## Method-1\n",
    "string = 'abc bbg kg'\n",
    "list(set(string.replace(' ','')))"
   ]
  },
  {
   "cell_type": "code",
   "execution_count": 522,
   "metadata": {},
   "outputs": [
    {
     "name": "stdout",
     "output_type": "stream",
     "text": [
      "Empty string\n",
      "Empty string\n",
      "['a', 'b', 'c', 'g', 'k']\n"
     ]
    }
   ],
   "source": [
    "## Method-2\n",
    "def uniqueChar(string):\n",
    "    if string:\n",
    "        string = string.lower().replace(' ','')\n",
    "        charDict = {}\n",
    "        for char in string:\n",
    "            if char in charDict:\n",
    "                charDict[char]+=1\n",
    "            else:\n",
    "                charDict[char]=1\n",
    "        x = list(charDict.keys())\n",
    "        \n",
    "        if x:\n",
    "            return x\n",
    "    return ('Empty string')\n",
    "\n",
    "print(uniqueChar(''))\n",
    "print(uniqueChar(' '))\n",
    "print(uniqueChar('abc bbg kg'))"
   ]
  },
  {
   "cell_type": "code",
   "execution_count": 526,
   "metadata": {},
   "outputs": [
    {
     "name": "stdout",
     "output_type": "stream",
     "text": [
      "Not a string\n",
      "Not a string\n",
      "True\n",
      "True\n",
      "False\n"
     ]
    }
   ],
   "source": [
    "### Third varration: Check if all characters in a string are unique\n",
    "\n",
    "def uniChar(string):\n",
    "    string = string.lower().replace(' ','')\n",
    "    if string: \n",
    "        charDict = {}\n",
    "        for char in string:\n",
    "            if char in charDict:\n",
    "                return False\n",
    "            else:\n",
    "                charDict[char]=1\n",
    "        return True\n",
    "    return ('Not a string')\n",
    "\n",
    "print(uniChar(''))\n",
    "print(uniChar(' '))\n",
    "print(uniChar(' 5 '))\n",
    "print(uniChar('abc m j'))\n",
    "print(uniChar('hello '))"
   ]
  },
  {
   "cell_type": "code",
   "execution_count": 523,
   "metadata": {},
   "outputs": [
    {
     "data": {
      "text/plain": [
       "True"
      ]
     },
     "execution_count": 523,
     "metadata": {},
     "output_type": "execute_result"
    }
   ],
   "source": [
    "## Using Set operations\n",
    "def unique(string):\n",
    "    string = string.replace(' ','')\n",
    "    characters = set()\n",
    "    \n",
    "    for letter in string:\n",
    "        if letter in characters:\n",
    "            return False\n",
    "        else:\n",
    "            characters.add(letter)\n",
    "    return True\n",
    "    \n",
    "string = 'abc m j'\n",
    "unique(string)"
   ]
  },
  {
   "cell_type": "code",
   "execution_count": 57,
   "metadata": {},
   "outputs": [
    {
     "name": "stdout",
     "output_type": "stream",
     "text": [
      "{1, 5, 6}\n",
      "{1, 5, 6, 7}\n",
      "{1, 5, 7}\n"
     ]
    }
   ],
   "source": [
    "### Few Set operations\n",
    "x = set([1,5,5,6])\n",
    "x.add(5)\n",
    "print(x)\n",
    "\n",
    "x.add(7)\n",
    "print(x)\n",
    "\n",
    "x.remove(6)\n",
    "print(x)"
   ]
  },
  {
   "cell_type": "markdown",
   "metadata": {},
   "source": [
    "#### All unique elements sorted by number of occurences\n",
    "string = 'aa g gkdsv sdv m l'\n",
    "\n",
    "[('k', 1), ('m', 1), ('l', 1), ('a', 2), ('g', 2), ('d', 2), ('s', 2), ('v', 2)]\n",
    "\n"
   ]
  },
  {
   "cell_type": "code",
   "execution_count": 541,
   "metadata": {},
   "outputs": [
    {
     "data": {
      "text/plain": [
       "[('k', 1),\n",
       " ('m', 1),\n",
       " ('l', 1),\n",
       " ('a', 2),\n",
       " ('g', 2),\n",
       " ('d', 2),\n",
       " ('s', 2),\n",
       " ('v', 2)]"
      ]
     },
     "execution_count": 541,
     "metadata": {},
     "output_type": "execute_result"
    }
   ],
   "source": [
    "def countUnique(string):\n",
    "    string = string.lower().replace(' ','')\n",
    "    \n",
    "    if string:\n",
    "        charDict = {}\n",
    "        for char in string:\n",
    "            if char in charDict:\n",
    "                charDict[char]+=1\n",
    "            else:\n",
    "                charDict[char]=1\n",
    "                \n",
    "        y = sorted(charDict.items(), key=lambda x:x[1])\n",
    "        return y\n",
    "    \n",
    "countUnique('aa g gkdsv sdv m l')"
   ]
  },
  {
   "cell_type": "markdown",
   "metadata": {},
   "source": [
    "### 23\n",
    "Longest consecutive characters in a string\n",
    "\n",
    "string = 'aabbbcddkkeeeeeennfk sdfn sdf'\n",
    "\n",
    "e:6\n",
    "\n"
   ]
  },
  {
   "cell_type": "code",
   "execution_count": 559,
   "metadata": {},
   "outputs": [
    {
     "name": "stdout",
     "output_type": "stream",
     "text": [
      "{'b': 3}\n"
     ]
    },
    {
     "data": {
      "text/plain": [
       "{'e': 6}"
      ]
     },
     "execution_count": 559,
     "metadata": {},
     "output_type": "execute_result"
    }
   ],
   "source": [
    "## Correct solution\n",
    "def longestConsecutive(string):\n",
    "    string = string.lower().replace(' ','')\n",
    "    \n",
    "    if string:\n",
    "        prevChar = None\n",
    "        max_count = 0\n",
    "        count = 0\n",
    "        max_char = ''\n",
    "        \n",
    "        for char in string:\n",
    "            if char == prevChar:\n",
    "                count+=1\n",
    "            else:\n",
    "                prevChar = char\n",
    "                count = 1\n",
    "            if count>max_count:\n",
    "                max_count = count\n",
    "                max_char = char\n",
    "                \n",
    "        return {max_char:max_count}\n",
    "                \n",
    "seq = 'aabbbcddkkennfk sdfn sdf'\n",
    "print(longestConsecutive(seq))      \n",
    "longestConsecutive('aabbbcddkkeeeeeennfk sdfn sdf')"
   ]
  },
  {
   "cell_type": "markdown",
   "metadata": {},
   "source": [
    "### 24\n",
    "Largest continuing sum"
   ]
  },
  {
   "cell_type": "code",
   "execution_count": 38,
   "metadata": {},
   "outputs": [
    {
     "name": "stdout",
     "output_type": "stream",
     "text": [
      "Empty Array\n",
      "12\n",
      "0\n"
     ]
    }
   ],
   "source": [
    "def contiguousSum(arr):\n",
    "    if arr:\n",
    "        n = len(arr)\n",
    "        if n<2:\n",
    "            return arr[0]\n",
    "        else:\n",
    "            maxSum = currSum = arr[0]\n",
    "            \n",
    "            for i in range(1,n):\n",
    "                if currSum+arr[i] < arr[i]:\n",
    "                    currSum = arr[i]\n",
    "                else:\n",
    "                    currSum+=arr[i]\n",
    "                if currSum>maxSum:\n",
    "                    maxSum = currSum\n",
    "        return maxSum\n",
    "    return ('Empty Array')\n",
    "\n",
    "x = [1,2,4,-1,-20,4,6,-8,10]\n",
    "print(contiguousSum([]))\n",
    "print(contiguousSum(x))\n",
    "print(contiguousSum([0]))"
   ]
  },
  {
   "cell_type": "markdown",
   "metadata": {},
   "source": [
    "### 25\n",
    "If two arrays are rotation of one another and # of rotations"
   ]
  },
  {
   "cell_type": "code",
   "execution_count": 25,
   "metadata": {},
   "outputs": [
    {
     "data": {
      "text/plain": [
       "True"
      ]
     },
     "execution_count": 25,
     "metadata": {},
     "output_type": "execute_result"
    }
   ],
   "source": [
    "x = [1,2,3,4,5]\n",
    "y = [5,1,2,3,4]\n",
    "\n",
    "def rotation(arr1, arr2):\n",
    "    if arr1 and arr2:\n",
    "        if len(arr1)!=len(arr2):\n",
    "            return False\n",
    "        else:\n",
    "            for i in range(0, len(arr1)):\n",
    "                x = arr1.pop()\n",
    "                arr1.insert(0,x)\n",
    "                if arr1 == arr2:\n",
    "                    return True\n",
    "        return False\n",
    "    return 'Invalid input'"
   ]
  },
  {
   "cell_type": "code",
   "execution_count": 603,
   "metadata": {},
   "outputs": [
    {
     "name": "stdout",
     "output_type": "stream",
     "text": [
      "True\n",
      "Invalid input\n",
      "False\n",
      "True\n",
      "False\n",
      "False\n",
      "True\n"
     ]
    }
   ],
   "source": [
    "def rotation(arr1, arr2):\n",
    "    if arr1 and arr2:\n",
    "        if len(arr1)!=len(arr2):\n",
    "            return False\n",
    "        \n",
    "        n = len(arr1)\n",
    "\n",
    "        pivotElement = arr1[0]\n",
    "        for i in range(0, n):\n",
    "            if arr2[i] == pivotElement:\n",
    "                idx = i\n",
    "                break\n",
    "        if not idx:\n",
    "            return False\n",
    "            \n",
    "        for arrIdx in range(0, n):\n",
    "            if arrIdx+idx<n:\n",
    "                arrIdx2 = arrIdx+idx\n",
    "            else:\n",
    "                arrIdx2 = arrIdx+idx-n\n",
    "            if arr1[arrIdx] != arr2[arrIdx2]:\n",
    "                return False\n",
    "            \n",
    "        return True\n",
    "                \n",
    "    return 'Invalid input'\n",
    "\n",
    "x = [1,2,3,4,5]\n",
    "y = [4,5,1,2,3]\n",
    "\n",
    "\n",
    "list1 = [1,2,3,3,4,5,6,7]\n",
    "list2 = [5,6,7,1,2,3,3,4]\n",
    "\n",
    "print(rotation(x,y))\n",
    "print(rotation([],[2]))\n",
    "print(rotation([1,2,3,4],y))\n",
    "print(rotation([5,1,2,3,4],y))\n",
    "print(rotation([3],[3]))\n",
    "print(rotation([3,2],[3,2]))\n",
    "print(rotation(list1, list2))"
   ]
  },
  {
   "cell_type": "markdown",
   "metadata": {},
   "source": [
    "### 26\n",
    "Common array elements"
   ]
  },
  {
   "cell_type": "code",
   "execution_count": 607,
   "metadata": {},
   "outputs": [
    {
     "data": {
      "text/plain": [
       "[1, 2, 5, 8]"
      ]
     },
     "execution_count": 607,
     "metadata": {},
     "output_type": "execute_result"
    }
   ],
   "source": [
    "def commonElements(arr1, arr2):\n",
    "    if arr1 and arr2:\n",
    "        elementDict = {}\n",
    "        \n",
    "        for num in arr1:\n",
    "            if num not in elementDict:\n",
    "                elementDict[num]=1\n",
    "    \n",
    "        commonNums = []\n",
    "    \n",
    "        for num in arr2:\n",
    "            if num in elementDict:\n",
    "                if num not in commonNums:\n",
    "                    commonNums.append(num)\n",
    "        return commonNums\n",
    "                \n",
    "    return 'Invalid Input'\n",
    "\n",
    "arr1 = [1,2,4,5,5,8]\n",
    "arr2 = [1,2,5,5,8,9,10]\n",
    "commonElements(arr1, arr2)"
   ]
  },
  {
   "cell_type": "code",
   "execution_count": 610,
   "metadata": {},
   "outputs": [
    {
     "data": {
      "text/plain": [
       "[1, 2, 5, 8]"
      ]
     },
     "execution_count": 610,
     "metadata": {},
     "output_type": "execute_result"
    }
   ],
   "source": [
    "def commonElements(arr1, arr2):\n",
    "    if arr1 and arr2:\n",
    "        elementDict = {}\n",
    "        \n",
    "        for num in arr1:\n",
    "            if num not in elementDict:\n",
    "                elementDict[num]=1\n",
    "    \n",
    "        for num in arr2:\n",
    "            if num in elementDict:\n",
    "                elementDict[num]-=1\n",
    "        \n",
    "        commonNums = []\n",
    "        \n",
    "        for k,v in elementDict.items():\n",
    "            if v<=0:\n",
    "                commonNums.append(k)\n",
    "        return commonNums\n",
    "                \n",
    "    return 'Invalid Input'\n",
    "\n",
    "arr1 = [1,2,4,5,5,8]\n",
    "arr2 = [1,2,5,5,8,9,10]\n",
    "commonElements(arr1, arr2)"
   ]
  },
  {
   "cell_type": "markdown",
   "metadata": {},
   "source": [
    "### 27\n",
    "Frequency count"
   ]
  },
  {
   "cell_type": "code",
   "execution_count": 611,
   "metadata": {},
   "outputs": [
    {
     "data": {
      "text/plain": [
       "4"
      ]
     },
     "execution_count": 611,
     "metadata": {},
     "output_type": "execute_result"
    }
   ],
   "source": [
    "arr = [1,1,3,4,5,6,6,4,4,4,4,44,6,6]\n",
    "\n",
    "def frequent(arr):\n",
    "    dic={}\n",
    "    max_value = 0; element = None\n",
    "    for i in arr:\n",
    "        if i not in dic:\n",
    "            dic[i]=1\n",
    "        else:\n",
    "            dic[i]+=1\n",
    "            \n",
    "        if dic[i]>max_value:\n",
    "            max_value = dic[i]\n",
    "            element = i  \n",
    "            \n",
    "    return element\n",
    "\n",
    "frequent(arr)"
   ]
  },
  {
   "cell_type": "markdown",
   "metadata": {},
   "source": [
    "### 28\n",
    "N-Repeated Element in Size 2N Array. In a array A of size 2N, there are N+1 unique elements, and exactly one of these elements is repeated N times. Return the element repeated N times\n",
    "\n",
    "2-variations"
   ]
  },
  {
   "cell_type": "code",
   "execution_count": 615,
   "metadata": {},
   "outputs": [
    {
     "name": "stdout",
     "output_type": "stream",
     "text": [
      "5\n",
      "No repeated elements\n",
      "None\n"
     ]
    }
   ],
   "source": [
    "def nRepeat(arr):\n",
    "    if arr:\n",
    "        dic = {}\n",
    "        for i in arr:\n",
    "            if i in dic:\n",
    "                return i\n",
    "            else:\n",
    "                dic[i]=1\n",
    "        return 'No repeated elements'\n",
    "    \n",
    "x = [5,1,5,2,5,3,5,4]\n",
    "print(nRepeat(x))\n",
    "print(nRepeat([1,2,3]))\n",
    "print(nRepeat([]))"
   ]
  },
  {
   "cell_type": "code",
   "execution_count": 621,
   "metadata": {},
   "outputs": [
    {
     "name": "stdout",
     "output_type": "stream",
     "text": [
      "3\n",
      "invalid Input\n",
      "1\n",
      "No number is repeated consecutively\n"
     ]
    }
   ],
   "source": [
    "def firstConsecutive(arr):\n",
    "    if arr:\n",
    "        prevElement = None\n",
    "        for i in arr:\n",
    "            if i == prevElement:\n",
    "                return i\n",
    "            prevElement = i\n",
    "        return 'No number is repeated consecutively'\n",
    "    return 'invalid Input'\n",
    "\n",
    "x = [5,1,5,3,3,5,3,5,4]\n",
    "print(firstConsecutive(x))\n",
    "print(firstConsecutive([]))\n",
    "print(firstConsecutive([1,1,3]))\n",
    "print(firstConsecutive([1,3,1,3,1]))"
   ]
  },
  {
   "cell_type": "markdown",
   "metadata": {},
   "source": [
    "### 29\n",
    "Queries <br>\n",
    "Input: A = [1,2,3,4], queries = [[1,0],[-3,1],[-4,0],[2,3]] <br>\n",
    "Output: [8,6,2,4] <br>\n",
    "Explanation: <br>\n",
    "At the beginning, the array is [1,2,3,4]. <br>\n",
    "After adding 1 to A[0], the array is [2,2,3,4], and the sum of even values is 2 + 2 + 4 = 8. <br>\n",
    "After adding -3 to A[1], the array is [2,-1,3,4], and the sum of even values is 2 + 4 = 6. <br>\n",
    "After adding -4 to A[0], the array is [-2,-1,3,4], and the sum of even values is -2 + 4 = 2. <br>\n",
    "After adding 2 to A[3], the array is [-2,-1,3,6], and the sum of even values is -2 + 6 = 4. <br>\n"
   ]
  },
  {
   "cell_type": "code",
   "execution_count": 629,
   "metadata": {},
   "outputs": [
    {
     "data": {
      "text/plain": [
       "[8, 6, 2, 4]"
      ]
     },
     "execution_count": 629,
     "metadata": {},
     "output_type": "execute_result"
    }
   ],
   "source": [
    "def arrSum(arr):\n",
    "    arrSum = 0\n",
    "    for i in arr:\n",
    "        if i%2==0:\n",
    "            arrSum+=i\n",
    "    return arrSum\n",
    "\n",
    "def queryArray(arr, query):\n",
    "    outputArr = []\n",
    "    for q in query:\n",
    "        num = q[0]\n",
    "        idx = q[1]\n",
    "        if idx>=0 and idx<len(arr):\n",
    "            x[idx]+=num\n",
    "            outputArr.append(arrSum(arr))\n",
    "    return outputArr\n",
    "\n",
    "x = [1,2,3,4]\n",
    "queries = [[1,0],[-3,1],[-4,0],[2,3]]\n",
    "queryArray(x, queries)"
   ]
  },
  {
   "cell_type": "markdown",
   "metadata": {},
   "source": [
    "### 30\n",
    "#### Some more fundmentals:\n"
   ]
  },
  {
   "cell_type": "code",
   "execution_count": 692,
   "metadata": {},
   "outputs": [
    {
     "data": {
      "text/plain": [
       "0"
      ]
     },
     "execution_count": 692,
     "metadata": {},
     "output_type": "execute_result"
    }
   ],
   "source": [
    "import numpy as np\n",
    "np.argmin([0,0,1,2,3])"
   ]
  },
  {
   "cell_type": "code",
   "execution_count": 694,
   "metadata": {},
   "outputs": [
    {
     "data": {
      "text/plain": [
       "1"
      ]
     },
     "execution_count": 694,
     "metadata": {},
     "output_type": "execute_result"
    }
   ],
   "source": [
    "np.argmax([0,5,1,5,3])"
   ]
  },
  {
   "cell_type": "markdown",
   "metadata": {},
   "source": [
    "#### Strings"
   ]
  },
  {
   "cell_type": "code",
   "execution_count": 68,
   "metadata": {},
   "outputs": [
    {
     "name": "stdout",
     "output_type": "stream",
     "text": [
      "-1\n",
      "4\n",
      "4\n",
      "4\n",
      "4\n",
      "False\n",
      "False\n",
      "True\n",
      "\n",
      "\n",
      "True\n"
     ]
    }
   ],
   "source": [
    "## index of first occurence using find() and index()\n",
    "print('The first president of the organization..'.find('air'))\n",
    "print('The first president of the organization..'.find('first'))\n",
    "print('The first president of the organization..'.find('f'))\n",
    "\n",
    "print('The first president of the organization..'.index('first'))\n",
    "print('The first president of the organization..'.index('f'))\n",
    "#print('The first president of the organization..'.find('air')): index will throw a value error\n",
    "\n",
    "## Check first letter capitalization\n",
    "print('hi there'.istitle())\n",
    "print('Hi there'.istitle())\n",
    "print('Hi There'.istitle())\n",
    "\n",
    "print('\\n')\n",
    "print('Hey' in 'Hey there') # Different"
   ]
  },
  {
   "cell_type": "code",
   "execution_count": 672,
   "metadata": {},
   "outputs": [
    {
     "name": "stdout",
     "output_type": "stream",
     "text": [
      "True\n",
      "False\n",
      "False\n",
      "True\n",
      "True\n",
      "False\n",
      "False\n",
      "False\n",
      "True\n"
     ]
    }
   ],
   "source": [
    "## Using .isnumeric(), isalpha(), isalnum(), islower()\n",
    "\n",
    "print('800'.isnumeric()) #T\n",
    "print('8A00'.isnumeric()) #F\n",
    "print('800.0'.isnumeric()) #F\n",
    "\n",
    "print('ATT'.isalpha()) #T\n",
    "\n",
    "print('Ten10'.isalnum()) #T\n",
    "print('Ten10..'.isalnum()) #F\n",
    "\n",
    "print('800.0'.islower()) #F\n",
    "print('hiiI'.islower()) #F\n",
    "print('hii'.islower()) #T"
   ]
  },
  {
   "cell_type": "code",
   "execution_count": 663,
   "metadata": {},
   "outputs": [
    {
     "name": "stdout",
     "output_type": "stream",
     "text": [
      "['e', 'h', 'l', 'l', 'o']\n",
      "ehllo\n"
     ]
    },
    {
     "data": {
      "text/plain": [
       "'e-h-l-l-o'"
      ]
     },
     "execution_count": 663,
     "metadata": {},
     "output_type": "execute_result"
    }
   ],
   "source": [
    "## Using join(), we mostly use it for joining without  a space. E.g. ''.join(string.split())\n",
    "\n",
    "x = 'hello'\n",
    "y = sorted(x)\n",
    "print(y)\n",
    "print(''.join(y))\n",
    "'-'.join(y)"
   ]
  },
  {
   "cell_type": "code",
   "execution_count": 19,
   "metadata": {},
   "outputs": [
    {
     "name": "stdout",
     "output_type": "stream",
     "text": [
      "['It was a stormy night', 'The house creeked', 'The wind blew.']\n",
      "5\n"
     ]
    },
    {
     "data": {
      "text/plain": [
       "'g'"
      ]
     },
     "execution_count": 19,
     "metadata": {},
     "output_type": "execute_result"
    }
   ],
   "source": [
    "## Splitlines\n",
    "sentence = \"It was a stormy night\\nThe house creeked\\nThe wind blew.\"\n",
    "print(sentence.splitlines())\n",
    "\n",
    "## Int to str\n",
    "a = 5\n",
    "b = str(a)\n",
    "print(b)\n",
    "\n",
    "## Min() function in strings\n",
    "### Capitalized characters and characters earlier in the alphabet have lower indexes\n",
    "min('strings')"
   ]
  },
  {
   "cell_type": "code",
   "execution_count": 674,
   "metadata": {},
   "outputs": [
    {
     "name": "stdout",
     "output_type": "stream",
     "text": [
      "dogdogdog\n"
     ]
    }
   ],
   "source": [
    "## Start with and end with\n",
    "\n",
    "city = 'New York'\n",
    "city.startswith('New') #=> True\n",
    "city.endswith('N') #=> False\n",
    "\n",
    "## Multiplication is similar to lists\n",
    "print('dog'*3)"
   ]
  },
  {
   "cell_type": "markdown",
   "metadata": {},
   "source": [
    "### Call by reference, call by value, immutability\n",
    "##### Immutability in strings:\n",
    "- Once a string object has been created, it cannot be changed. “Modifying” that string creates a whole new object in memory.\n",
    "We can prove it by using the id() function.\n",
    "- If same string value is assigned to two different variables, they are stored in the same place. Not the same for mutable data structures\n"
   ]
  },
  {
   "cell_type": "code",
   "execution_count": 675,
   "metadata": {},
   "outputs": [
    {
     "name": "stdout",
     "output_type": "stream",
     "text": [
      "139992078874224\n",
      "139992083542944\n"
     ]
    }
   ],
   "source": [
    "proverb = 'Rise each day'\n",
    "print( id(proverb) )\n",
    "proverb_two = 'Rise each day' + ' before the sun'\n",
    "print( id(proverb_two))"
   ]
  },
  {
   "cell_type": "code",
   "execution_count": 677,
   "metadata": {},
   "outputs": [
    {
     "name": "stdout",
     "output_type": "stream",
     "text": [
      "139991858057328\n",
      "139991858057328\n",
      "True\n",
      "True\n"
     ]
    }
   ],
   "source": [
    "animal = 'dog'\n",
    "print( id(animal) )\n",
    "pet = 'dog'\n",
    "print( id(pet) )\n",
    "\n",
    "print(animal is pet)\n",
    "print(animal==pet)"
   ]
  },
  {
   "cell_type": "code",
   "execution_count": 688,
   "metadata": {},
   "outputs": [
    {
     "name": "stdout",
     "output_type": "stream",
     "text": [
      "139992082314976 139992082494160\n",
      "False\n"
     ]
    }
   ],
   "source": [
    "a = [10, 20, 30]\n",
    "b = [10, 20, 30]\n",
    "print(id(a), id(b))\n",
    " \n",
    "print(a is b)"
   ]
  },
  {
   "cell_type": "markdown",
   "metadata": {},
   "source": [
    "The output of the above two examples are different because the list is mutable and the string is immutable. An immutable variable cannot be changed once created. If we wish to change an immutable variable, such as a string, we must create a new instance and bind the variable to the new instance. Whereas, mutable variable can be changed in place."
   ]
  },
  {
   "cell_type": "code",
   "execution_count": 716,
   "metadata": {},
   "outputs": [
    {
     "name": "stdout",
     "output_type": "stream",
     "text": [
      "0 0\n"
     ]
    },
    {
     "ename": "TypeError",
     "evalue": "'tuple' object does not support item assignment",
     "output_type": "error",
     "traceback": [
      "\u001b[0;31m---------------------------------------------------------------------------\u001b[0m",
      "\u001b[0;31mTypeError\u001b[0m                                 Traceback (most recent call last)",
      "\u001b[0;32m<ipython-input-716-55b4273de8af>\u001b[0m in \u001b[0;36m<module>\u001b[0;34m\u001b[0m\n\u001b[1;32m      4\u001b[0m \u001b[0mprint\u001b[0m\u001b[0;34m(\u001b[0m\u001b[0ma\u001b[0m\u001b[0;34m[\u001b[0m\u001b[0;36m0\u001b[0m\u001b[0;34m]\u001b[0m\u001b[0;34m,\u001b[0m \u001b[0ma\u001b[0m\u001b[0;34m[\u001b[0m\u001b[0;36m1\u001b[0m\u001b[0;34m]\u001b[0m\u001b[0;34m)\u001b[0m\u001b[0;34m\u001b[0m\u001b[0;34m\u001b[0m\u001b[0m\n\u001b[1;32m      5\u001b[0m \u001b[0;34m\u001b[0m\u001b[0m\n\u001b[0;32m----> 6\u001b[0;31m \u001b[0ma\u001b[0m\u001b[0;34m[\u001b[0m\u001b[0;36m0\u001b[0m\u001b[0;34m]\u001b[0m \u001b[0;34m=\u001b[0m \u001b[0;36m1\u001b[0m\u001b[0;34m\u001b[0m\u001b[0;34m\u001b[0m\u001b[0m\n\u001b[0m",
      "\u001b[0;31mTypeError\u001b[0m: 'tuple' object does not support item assignment"
     ]
    }
   ],
   "source": [
    "### You cannot do variable assignment in immutable data structures\n",
    "### HOWEVER YOU CAN ADD ELEMENTS TO THE TUPLE\n",
    "\n",
    "a = (0,0)\n",
    "print(a[0], a[1])\n",
    "\n",
    "a[0] = 1"
   ]
  },
  {
   "cell_type": "code",
   "execution_count": 717,
   "metadata": {},
   "outputs": [
    {
     "data": {
      "text/plain": [
       "(0, 0, 0, 0)"
      ]
     },
     "execution_count": 717,
     "metadata": {},
     "output_type": "execute_result"
    }
   ],
   "source": [
    "a=a+a\n",
    "a"
   ]
  },
  {
   "cell_type": "markdown",
   "metadata": {},
   "source": [
    "#### Difference due to mutability of lists"
   ]
  },
  {
   "cell_type": "code",
   "execution_count": 678,
   "metadata": {},
   "outputs": [
    {
     "name": "stdout",
     "output_type": "stream",
     "text": [
      "139992083044304 139992083044304 139992085851264\n",
      "True\n",
      "True\n",
      "False\n",
      "True\n"
     ]
    }
   ],
   "source": [
    "## Reference assigns the same id where as assigning a value doesn't, in lists it is different\n",
    "animals = ['dog', 'cat']\n",
    "newAnimals = animals\n",
    "\n",
    "coolAnimals = ['dog', 'cat']\n",
    "\n",
    "print(id(animals), id(newAnimals), id(coolAnimals))\n",
    "\n",
    "### IS compares the id, and == compares equality\n",
    "print(animals is newAnimals)\n",
    "print(animals == newAnimals)\n",
    "\n",
    "print(animals is coolAnimals)\n",
    "print(animals == coolAnimals)"
   ]
  },
  {
   "cell_type": "code",
   "execution_count": 679,
   "metadata": {},
   "outputs": [
    {
     "name": "stdout",
     "output_type": "stream",
     "text": [
      "139992083044304\n"
     ]
    }
   ],
   "source": [
    "## Id remains same\n",
    "animals.append('lion')\n",
    "print(id(animals))"
   ]
  },
  {
   "cell_type": "markdown",
   "metadata": {},
   "source": [
    "##### Now see the impact of call by reference, since newAnimals is referring to animals, the value for newAnimals also changes"
   ]
  },
  {
   "cell_type": "code",
   "execution_count": 680,
   "metadata": {},
   "outputs": [
    {
     "data": {
      "text/plain": [
       "['dog', 'cat', 'lion']"
      ]
     },
     "execution_count": 680,
     "metadata": {},
     "output_type": "execute_result"
    }
   ],
   "source": [
    "newAnimals"
   ]
  },
  {
   "cell_type": "code",
   "execution_count": 46,
   "metadata": {},
   "outputs": [
    {
     "name": "stdout",
     "output_type": "stream",
     "text": [
      "dog dog\n",
      "True\n",
      "dogCow dog\n"
     ]
    }
   ],
   "source": [
    "## Call by reference is a python concept that applies only to mutable datatypes. It doesn't work on strings\n",
    "pet = 'dog'\n",
    "newPet = pet\n",
    "print(pet, newPet)\n",
    "print(pet is newPet)\n",
    "\n",
    "pet = pet+'Cow'\n",
    "print(pet, newPet)"
   ]
  },
  {
   "cell_type": "markdown",
   "metadata": {},
   "source": [
    "#### Call by value vs. Call by reference:\n",
    "- In the event that you pass arguments like whole numbers, strings or tuples to a function, the passing is like call-by-value because you can not change the value of the immutable objects being passed to the function. \n",
    "- Whereas passing mutable objects can be considered as call by reference because when their values are changed inside the function, then it will also be reflected outside the function."
   ]
  },
  {
   "cell_type": "code",
   "execution_count": 687,
   "metadata": {},
   "outputs": [
    {
     "name": "stdout",
     "output_type": "stream",
     "text": [
      "Inside Function: GeeksGeeksforGeeks\n",
      "Outside Function: Geeks\n"
     ]
    }
   ],
   "source": [
    "# Python code to demonstrate\n",
    "# call by value\n",
    " \n",
    "string = \"Geeks\"\n",
    " \n",
    "def test(string):\n",
    "     \n",
    "    string = string+\"GeeksforGeeks\"\n",
    "    print(\"Inside Function:\", string)\n",
    "     \n",
    "# Driver's code\n",
    "test(string)\n",
    "print(\"Outside Function:\", string)"
   ]
  },
  {
   "cell_type": "code",
   "execution_count": 686,
   "metadata": {},
   "outputs": [
    {
     "name": "stdout",
     "output_type": "stream",
     "text": [
      "Inside Function [10, 20, 30, 40, 50]\n",
      "Outside Function: [10, 20, 30, 40, 50]\n"
     ]
    }
   ],
   "source": [
    "# call by reference\n",
    "\n",
    "def add_more(list):\n",
    "    list.append(50)\n",
    "    print(\"Inside Function\", list)\n",
    "    \n",
    "# Driver's code\n",
    "mylist = [10,20,30,40]\n",
    " \n",
    "add_more(mylist)\n",
    "print(\"Outside Function:\", mylist)"
   ]
  },
  {
   "cell_type": "code",
   "execution_count": 689,
   "metadata": {},
   "outputs": [
    {
     "name": "stdout",
     "output_type": "stream",
     "text": [
      "Inside Function: new value\n",
      "Outside Function: old value\n"
     ]
    }
   ],
   "source": [
    "def foo(a):\n",
    "    # A new variable is assigned\n",
    "    # for the new string\n",
    "    a = \"new value\"\n",
    "    print(\"Inside Function:\", a)\n",
    "     \n",
    "# Driver's code\n",
    "string = \"old value\"\n",
    "foo(string)\n",
    "print(\"Outside Function:\", string)"
   ]
  },
  {
   "cell_type": "code",
   "execution_count": 690,
   "metadata": {},
   "outputs": [
    {
     "name": "stdout",
     "output_type": "stream",
     "text": [
      "['Nothing', 'how', 'are', 'you', 'doing']\n"
     ]
    }
   ],
   "source": [
    "def foo(a):\n",
    "    a[0] = \"Nothing\"\n",
    "     \n",
    "# Driver' code\n",
    "bar = ['Hi', 'how', 'are', 'you', 'doing']\n",
    "foo(bar)\n",
    "print(bar)"
   ]
  },
  {
   "cell_type": "code",
   "execution_count": null,
   "metadata": {},
   "outputs": [],
   "source": []
  }
 ],
 "metadata": {
  "kernelspec": {
   "display_name": "Python 3",
   "language": "python",
   "name": "python3"
  },
  "language_info": {
   "codemirror_mode": {
    "name": "ipython",
    "version": 3
   },
   "file_extension": ".py",
   "mimetype": "text/x-python",
   "name": "python",
   "nbconvert_exporter": "python",
   "pygments_lexer": "ipython3",
   "version": "3.7.8"
  }
 },
 "nbformat": 4,
 "nbformat_minor": 4
}
